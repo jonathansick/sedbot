{
 "metadata": {
  "name": "",
  "signature": "sha256:9aa3d170cc627b5f4596641f1a354da82e3b8cadd168b74634dc2506db7c535b"
 },
 "nbformat": 3,
 "nbformat_minor": 0,
 "worksheets": [
  {
   "cells": [
    {
     "cell_type": "code",
     "collapsed": false,
     "input": [
      "import numpy as np\n",
      "import h5py\n",
      "from sedbot.library.builder import LibraryBuilder\n",
      "from sedbot.library.builder import UniformParamGenerator\n",
      "from sedbot.library.builder import TauUniformGammaGenerator"
     ],
     "language": "python",
     "metadata": {},
     "outputs": [],
     "prompt_number": 1
    },
    {
     "cell_type": "code",
     "collapsed": false,
     "input": [
      "h5_file = h5py.File('in_memory.hdf5', driver='core', backing_store=False)"
     ],
     "language": "python",
     "metadata": {},
     "outputs": [],
     "prompt_number": 2
    },
    {
     "cell_type": "code",
     "collapsed": false,
     "input": [
      "sf_start_gen = UniformParamGenerator('sf_start', low_limit=0.5, high_limit=13.8 - 1.5)\n",
      "tburst_gen = UniformParamGenerator('tburst', low_limit=13.8 - 4., high_limit=13.8)\n",
      "fburst_gen = UniformParamGenerator('fburst', low_limit=0., high_limit=0.7)\n",
      "tau_gen = TauUniformGammaGenerator('tau', low_limit=0.1, high_limit=100.)"
     ],
     "language": "python",
     "metadata": {},
     "outputs": [],
     "prompt_number": 3
    },
    {
     "cell_type": "code",
     "collapsed": false,
     "input": [
      "builder = LibraryBuilder(h5_file, group='test_library')\n",
      "builder.add_parameter(sf_start_gen)\n",
      "builder.add_parameter(tau_gen)\n",
      "builder.add_parameter(fburst_gen)\n",
      "builder.add_parameter(tburst_gen)"
     ],
     "language": "python",
     "metadata": {},
     "outputs": [],
     "prompt_number": 4
    },
    {
     "cell_type": "code",
     "collapsed": false,
     "input": [
      "builder.generators"
     ],
     "language": "python",
     "metadata": {},
     "outputs": [
      {
       "metadata": {},
       "output_type": "pyout",
       "prompt_number": 5,
       "text": [
        "OrderedDict([('sf_start', <sedbot.library.builder.UniformParamGenerator object at 0x104ac2410>), ('tau', <sedbot.library.builder.TauUniformGammaGenerator object at 0x104ac2490>), ('fburst', <sedbot.library.builder.UniformParamGenerator object at 0x104ac2450>), ('tburst', <sedbot.library.builder.UniformParamGenerator object at 0x104ac23d0>)])"
       ]
      }
     ],
     "prompt_number": 5
    },
    {
     "cell_type": "code",
     "collapsed": false,
     "input": [
      "builder.define_library(10)"
     ],
     "language": "python",
     "metadata": {},
     "outputs": [],
     "prompt_number": 6
    },
    {
     "cell_type": "code",
     "collapsed": false,
     "input": [
      "builder.group['params']['sf_start']"
     ],
     "language": "python",
     "metadata": {},
     "outputs": [
      {
       "metadata": {},
       "output_type": "pyout",
       "prompt_number": 7,
       "text": [
        "array([ 6.78942181,  4.25931447,  3.75228322,  3.42998494,  4.11289353,\n",
        "        9.74226261,  1.81592243,  6.27027664,  8.63730986,  6.35739047])"
       ]
      }
     ],
     "prompt_number": 7
    },
    {
     "cell_type": "code",
     "collapsed": false,
     "input": [
      "builder.group['params']['tau']"
     ],
     "language": "python",
     "metadata": {},
     "outputs": [
      {
       "metadata": {},
       "output_type": "pyout",
       "prompt_number": 8,
       "text": [
        "array([ 0.10403423,  0.52024118,  0.1769331 ,  0.25263931,  0.16046722,\n",
        "        0.15439901,  0.49654147,  0.19959252,  0.13901606,  0.14524964])"
       ]
      }
     ],
     "prompt_number": 8
    },
    {
     "cell_type": "code",
     "collapsed": false,
     "input": [
      "builder.group['params']['fburst']"
     ],
     "language": "python",
     "metadata": {},
     "outputs": [
      {
       "metadata": {},
       "output_type": "pyout",
       "prompt_number": 9,
       "text": [
        "array([ 0.40077148,  0.24536757,  0.06932539,  0.10260979,  0.42120952,\n",
        "        0.46319262,  0.35869479,  0.22769016,  0.33510027,  0.20270224])"
       ]
      }
     ],
     "prompt_number": 9
    },
    {
     "cell_type": "code",
     "collapsed": false,
     "input": [
      "print(builder.group['params'].dtype.names)\n",
      "for row in builder.group['params']:\n",
      "    print(row)"
     ],
     "language": "python",
     "metadata": {},
     "outputs": [
      {
       "output_type": "stream",
       "stream": "stdout",
       "text": [
        "('sf_start', 'tau', 'fburst', 'tburst')\n",
        "(6.789421811083137, 0.10403422549479632, 0.40077148400209905, 12.76248003508854)\n",
        "(4.259314468243859, 0.5202411824199004, 0.24536757344223847, 10.300592232212308)\n",
        "(3.752283216922309, 0.17693309724136672, 0.06932538893205753, 13.669462049032575)\n",
        "(3.4299849406924245, 0.2526393125599983, 0.10260979443034683, 10.598901851544468)\n",
        "(4.112893532197611, 0.16046721645663664, 0.42120951637956117, 10.151664957552246)\n",
        "(9.742262606523461, 0.15439901050686944, 0.4631926190122775, 13.3395110774566)\n",
        "(1.815922432164652, 0.4965414714278202, 0.35869479368202917, 12.416823329642217)\n",
        "(6.270276637960518, 0.19959251625335198, 0.22769016011605034, 11.964858463215153)\n",
        "(8.637309864893139, 0.13901606134823735, 0.33510027048971736, 11.206413906003817)\n",
        "(6.357390472683253, 0.14524964293709014, 0.2027022378579611, 12.721583012085576)\n"
       ]
      }
     ],
     "prompt_number": 10
    },
    {
     "cell_type": "code",
     "collapsed": false,
     "input": [
      "bands = ('sdss_u', 'sdss_g', 'sdss_r', 'sdss_i')\n",
      "pset = {\"compute_vega_mags\": False,\n",
      "        \"zmet\": 20,\n",
      "        'sfh': 1}\n",
      "builder.compute_library_seds(bands, age=13.7, default_pset=pset)"
     ],
     "language": "python",
     "metadata": {},
     "outputs": [
      {
       "output_type": "stream",
       "stream": "stderr",
       "text": [
        "/Users/jsick/code/_andromass/sedbot/sedbot/library/builder.py:164: RuntimeWarning: invalid value encountered in log10\n",
        "  meta_table['logLbol', i] = np.log10(sp.log_lbol)\n",
        "/Users/jsick/code/_andromass/sedbot/sedbot/library/builder.py:165: RuntimeWarning: divide by zero encountered in log10\n",
        "  meta_table['logSFR', i] = np.log10(sp.sfr)\n"
       ]
      }
     ],
     "prompt_number": 11
    },
    {
     "cell_type": "code",
     "collapsed": false,
     "input": [
      "print(builder.group['seds'].dtype)"
     ],
     "language": "python",
     "metadata": {},
     "outputs": [
      {
       "output_type": "stream",
       "stream": "stdout",
       "text": [
        "[('sdss_u', '<f8'), ('sdss_g', '<f8'), ('sdss_r', '<f8'), ('sdss_i', '<f8')]\n"
       ]
      }
     ],
     "prompt_number": 12
    },
    {
     "cell_type": "code",
     "collapsed": false,
     "input": [
      "builder.group['seds']['sdss_u']"
     ],
     "language": "python",
     "metadata": {},
     "outputs": [
      {
       "metadata": {},
       "output_type": "pyout",
       "prompt_number": 13,
       "text": [
        "array([ 7172187.83007945,  1314965.08263392,  1724546.75398841,\n",
        "        1017773.89544261,  1516244.1991162 ,  4631060.55748789,\n",
        "        4006944.24612688,  2443791.34679049,  2476288.03757114,\n",
        "        3966411.73842263])"
       ]
      }
     ],
     "prompt_number": 13
    },
    {
     "cell_type": "code",
     "collapsed": false,
     "input": [
      "builder.group['mass_light']['sdss_i']"
     ],
     "language": "python",
     "metadata": {},
     "outputs": [
      {
       "metadata": {},
       "output_type": "pyout",
       "prompt_number": 14,
       "text": [
        "array([-0.10142147,  0.30079677,  0.32802494,  0.37460489,  0.25520776,\n",
        "       -0.06373313,  0.06157897,  0.12536065,  0.11749665,  0.0662748 ])"
       ]
      }
     ],
     "prompt_number": 14
    },
    {
     "cell_type": "markdown",
     "metadata": {},
     "source": [
      "# Fitting a Stellar Populatation\n",
      "\n",
      "We'll use one of models as our observed SED, with 1% uncertainties."
     ]
    },
    {
     "cell_type": "code",
     "collapsed": false,
     "input": [
      "x = builder.group['seds'][bands]\n",
      "obs_sed = x.view(np.float64).reshape(x.shape + (-1,))[0, :].flatten()\n",
      "obs_err = obs_sed / 100."
     ],
     "language": "python",
     "metadata": {},
     "outputs": [],
     "prompt_number": 15
    },
    {
     "cell_type": "code",
     "collapsed": false,
     "input": [
      "from sedbot.library.marginalizer import LibraryMarginalizer"
     ],
     "language": "python",
     "metadata": {},
     "outputs": [],
     "prompt_number": 16
    },
    {
     "cell_type": "code",
     "collapsed": false,
     "input": [
      "marginalizer = LibraryMarginalizer(h5_file, group='test_library')\n",
      "marginalizer.model_ln_likelihood(obs_sed, obs_err, bands, 10, ncpu=1)"
     ],
     "language": "python",
     "metadata": {},
     "outputs": [
      {
       "metadata": {},
       "output_type": "pyout",
       "prompt_number": 17,
       "text": [
        "array([(-0.0, 1.0), (-2659.5548659616684, 3.300082337454233),\n",
        "       (-649.0837116021671, 3.3889354332873696),\n",
        "       (-3108.102486561471, 3.986391757162598),\n",
        "       (-2476.899144542387, 2.9416470187163295),\n",
        "       (-38.72672556480691, 1.4848313744646195),\n",
        "       (-202.51069327358184, 1.627520731041513),\n",
        "       (-1553.681861617392, 2.096319820820593),\n",
        "       (-1649.2025383843934, 2.043424214738289),\n",
        "       (-189.93217673685024, 1.6349225738877127)], \n",
        "      dtype=[('lnp', '<f8'), ('mass', '<f8')])"
       ]
      }
     ],
     "prompt_number": 17
    },
    {
     "cell_type": "code",
     "collapsed": false,
     "input": [],
     "language": "python",
     "metadata": {},
     "outputs": [],
     "prompt_number": 17
    }
   ],
   "metadata": {}
  }
 ]
}