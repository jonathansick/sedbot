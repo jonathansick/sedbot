{
 "metadata": {
  "name": "",
  "signature": "sha256:ca52db9e32dfe704e60ec4783ab5bae994504b041602280118c9691e0f73771f"
 },
 "nbformat": 3,
 "nbformat_minor": 0,
 "worksheets": [
  {
   "cells": [
    {
     "cell_type": "code",
     "collapsed": false,
     "input": [
      "import numpy as np\n",
      "import h5py\n",
      "from sedbot.library.builder import LibraryBuilder\n",
      "from sedbot.library.builder import UniformParamGenerator\n",
      "from sedbot.library.builder import TauUniformGammaGenerator"
     ],
     "language": "python",
     "metadata": {},
     "outputs": [],
     "prompt_number": 1
    },
    {
     "cell_type": "code",
     "collapsed": false,
     "input": [
      "h5_file = h5py.File('in_memory.hdf5', driver='core', backing_store=False)"
     ],
     "language": "python",
     "metadata": {},
     "outputs": [],
     "prompt_number": 2
    },
    {
     "cell_type": "code",
     "collapsed": false,
     "input": [
      "sf_start_gen = UniformParamGenerator('sf_start', low_limit=0.5, high_limit=13.8 - 1.5)\n",
      "tburst_gen = UniformParamGenerator('tburst', low_limit=13.8 - 4., high_limit=13.8)\n",
      "fburst_gen = UniformParamGenerator('fburst', low_limit=0., high_limit=0.7)\n",
      "tau_gen = TauUniformGammaGenerator('tau', low_limit=0.1, high_limit=100.)"
     ],
     "language": "python",
     "metadata": {},
     "outputs": [],
     "prompt_number": 3
    },
    {
     "cell_type": "code",
     "collapsed": false,
     "input": [
      "builder = LibraryBuilder(h5_file, group='test_library')\n",
      "builder.add_parameter(sf_start_gen)\n",
      "builder.add_parameter(tau_gen)\n",
      "builder.add_parameter(fburst_gen)\n",
      "builder.add_parameter(tburst_gen)"
     ],
     "language": "python",
     "metadata": {},
     "outputs": [],
     "prompt_number": 4
    },
    {
     "cell_type": "code",
     "collapsed": false,
     "input": [
      "builder.generators"
     ],
     "language": "python",
     "metadata": {},
     "outputs": [
      {
       "metadata": {},
       "output_type": "pyout",
       "prompt_number": 5,
       "text": [
        "OrderedDict([('sf_start', <sedbot.library.builder.UniformParamGenerator object at 0x105154410>), ('tau', <sedbot.library.builder.TauUniformGammaGenerator object at 0x105154490>), ('fburst', <sedbot.library.builder.UniformParamGenerator object at 0x105154450>), ('tburst', <sedbot.library.builder.UniformParamGenerator object at 0x1051543d0>)])"
       ]
      }
     ],
     "prompt_number": 5
    },
    {
     "cell_type": "code",
     "collapsed": false,
     "input": [
      "builder.define_library(10)"
     ],
     "language": "python",
     "metadata": {},
     "outputs": [],
     "prompt_number": 6
    },
    {
     "cell_type": "code",
     "collapsed": false,
     "input": [
      "builder.group['params']['sf_start']"
     ],
     "language": "python",
     "metadata": {},
     "outputs": [
      {
       "metadata": {},
       "output_type": "pyout",
       "prompt_number": 7,
       "text": [
        "array([ 5.51321455,  4.55995081,  4.0918104 ,  6.10899202,  1.36713573,\n",
        "        7.7881443 ,  2.81759202,  0.67238298,  4.17196912,  5.25269259])"
       ]
      }
     ],
     "prompt_number": 7
    },
    {
     "cell_type": "code",
     "collapsed": false,
     "input": [
      "builder.group['params']['tau']"
     ],
     "language": "python",
     "metadata": {},
     "outputs": [
      {
       "metadata": {},
       "output_type": "pyout",
       "prompt_number": 8,
       "text": [
        "array([ 0.11016255,  0.57935258,  1.01851554,  0.11253939,  0.14383168,\n",
        "        0.24653401,  1.54551018,  0.31141522,  0.20491542,  0.35122043])"
       ]
      }
     ],
     "prompt_number": 8
    },
    {
     "cell_type": "code",
     "collapsed": false,
     "input": [
      "builder.group['params']['fburst']"
     ],
     "language": "python",
     "metadata": {},
     "outputs": [
      {
       "metadata": {},
       "output_type": "pyout",
       "prompt_number": 9,
       "text": [
        "array([ 0.04675023,  0.18938967,  0.29859909,  0.12535937,  0.15198074,\n",
        "        0.25842623,  0.26770351,  0.5230857 ,  0.6754243 ,  0.02303755])"
       ]
      }
     ],
     "prompt_number": 9
    },
    {
     "cell_type": "code",
     "collapsed": false,
     "input": [
      "print(builder.group['params'].dtype.names)\n",
      "for row in builder.group['params']:\n",
      "    print(row)"
     ],
     "language": "python",
     "metadata": {},
     "outputs": [
      {
       "output_type": "stream",
       "stream": "stdout",
       "text": [
        "('sf_start', 'tau', 'fburst', 'tburst')\n",
        "(5.513214549582597, 0.11016255362937565, 0.046750229772118235, 13.632936666733478)\n",
        "(4.559950812927117, 0.5793525848843607, 0.18938966759856474, 11.221965122617767)\n",
        "(4.091810396240787, 1.0185155352634343, 0.2985990883310994, 10.129315438687335)\n",
        "(6.10899201606975, 0.11253939092987104, 0.12535936805555659, 13.10275679942918)\n",
        "(1.3671357322808393, 0.14383168187513143, 0.15198074099470488, 12.234114855985867)\n",
        "(7.788144303848155, 0.2465340091841294, 0.25842622827932915, 12.967453135238397)\n",
        "(2.8175920231666343, 1.5455101832305829, 0.26770350777968105, 13.110786721002336)\n",
        "(0.6723829832715718, 0.31141521920106163, 0.5230856965213682, 13.63159979962916)\n",
        "(4.171969124275456, 0.20491542138446178, 0.6754243031387317, 12.628892599457807)\n",
        "(5.2526925928563735, 0.3512204264499414, 0.02303755281082502, 12.843983727933177)\n"
       ]
      }
     ],
     "prompt_number": 10
    },
    {
     "cell_type": "code",
     "collapsed": false,
     "input": [
      "bands = ('sdss_u', 'sdss_g', 'sdss_r', 'sdss_i')\n",
      "pset = {\"compute_vega_mags\": False,\n",
      "        \"zmet\": 20,\n",
      "        'sfh': 1}\n",
      "builder.compute_library_seds(bands, age=13.7, default_pset=pset)"
     ],
     "language": "python",
     "metadata": {},
     "outputs": [
      {
       "output_type": "stream",
       "stream": "stderr",
       "text": [
        "/Users/jsick/code/_andromass/sedbot/sedbot/library/builder.py:164: RuntimeWarning: invalid value encountered in log10\n",
        "  meta_table['logLbol', i] = np.log10(sp.log_lbol)\n",
        "/Users/jsick/code/_andromass/sedbot/sedbot/library/builder.py:165: RuntimeWarning: divide by zero encountered in log10\n",
        "  meta_table['logSFR', i] = np.log10(sp.sfr)\n"
       ]
      }
     ],
     "prompt_number": 11
    },
    {
     "cell_type": "code",
     "collapsed": false,
     "input": [
      "print(builder.group['seds'].dtype)"
     ],
     "language": "python",
     "metadata": {},
     "outputs": [
      {
       "output_type": "stream",
       "stream": "stdout",
       "text": [
        "[('sdss_u', '<f8'), ('sdss_g', '<f8'), ('sdss_r', '<f8'), ('sdss_i', '<f8')]\n"
       ]
      }
     ],
     "prompt_number": 12
    },
    {
     "cell_type": "code",
     "collapsed": false,
     "input": [
      "builder.group['seds']['sdss_u']"
     ],
     "language": "python",
     "metadata": {},
     "outputs": [
      {
       "metadata": {},
       "output_type": "pyout",
       "prompt_number": 13,
       "text": [
        "array([  1568990.33104482,   1511699.08839844,   1399145.84819634,\n",
        "         5885093.38553298,   1801985.09154554,   7529159.27862933,\n",
        "        11601652.06406179,   6868088.01678989,   9025709.09344635,\n",
        "         1426835.44350662])"
       ]
      }
     ],
     "prompt_number": 13
    },
    {
     "cell_type": "code",
     "collapsed": false,
     "input": [
      "builder.group['mass_light']['sdss_i']"
     ],
     "language": "python",
     "metadata": {},
     "outputs": [
      {
       "metadata": {},
       "output_type": "pyout",
       "prompt_number": 14,
       "text": [
        "array([ 0.31548338,  0.27689128,  0.28126946,  0.09687286,  0.27852135,\n",
        "       -0.04989633, -0.06804357, -0.08346188, -0.18848995,  0.32354769])"
       ]
      }
     ],
     "prompt_number": 14
    },
    {
     "cell_type": "markdown",
     "metadata": {},
     "source": [
      "# Fitting a Stellar Populatation\n",
      "\n",
      "We'll use one of models as our observed SED, with 1% uncertainties."
     ]
    },
    {
     "cell_type": "code",
     "collapsed": false,
     "input": [
      "x = builder.group['seds'][bands]\n",
      "obs_sed = x.view(np.float64).reshape(x.shape + (-1,))[0, :].flatten()\n",
      "obs_err = obs_sed / 100."
     ],
     "language": "python",
     "metadata": {},
     "outputs": [],
     "prompt_number": 15
    },
    {
     "cell_type": "code",
     "collapsed": false,
     "input": [
      "from sedbot.library.marginalizer import LibraryEstimator"
     ],
     "language": "python",
     "metadata": {},
     "outputs": [],
     "prompt_number": 16
    },
    {
     "cell_type": "code",
     "collapsed": false,
     "input": [
      "estimator = LibraryEstimator(obs_sed, obs_err, bands, 10, h5_file, library_group='test_library', ncpu=1)\n",
      "print(estimator.chisq_data)"
     ],
     "language": "python",
     "metadata": {},
     "outputs": [
      {
       "output_type": "stream",
       "stream": "stdout",
       "text": [
        "[(-0.0, 1.0) (-78.97229703501927, 0.9472188167544101)\n",
        " (-152.89567343240014, 0.9765812653101923)\n",
        " (-1780.1384992821186, 0.3621842060000507)\n",
        " (-3.328520542489064, 0.8898858374695422)\n",
        " (-1263.6694255273596, 0.271215704827464)\n",
        " (-3014.258717912089, 0.19082158028591692)\n",
        " (-1863.288412709233, 0.30294181399093967)\n",
        " (-715.2992401499143, 0.21476787276428627)\n",
        " (-31.362571377611033, 1.0357319357940509)]\n"
       ]
      }
     ],
     "prompt_number": 17
    },
    {
     "cell_type": "code",
     "collapsed": false,
     "input": [
      "estimator.estimate('tau')"
     ],
     "language": "python",
     "metadata": {},
     "outputs": [
      {
       "output_type": "stream",
       "stream": "stdout",
       "text": [
        "('model values', array([ 0.11016255,  0.57935258,  1.01851554,  0.11253939,  0.14383168,\n",
        "        0.24653401,  1.54551018,  0.31141522,  0.20491542,  0.35122043]))\n",
        "('model_prob', array([  1.00000000e+000,   0.00000000e+000,   3.58460986e-002,\n",
        "         2.23607874e-311,   0.00000000e+000,   0.00000000e+000,\n",
        "         2.39556695e-014,   5.04390821e-035,   3.96508701e-067,\n",
        "         0.00000000e+000]))\n",
        "('p_norm', 1.0358460986370124)\n",
        "('cdf.shape', (10,))\n",
        "('cdf', array([ 0.96539438,  0.96539438,  1.        ,  1.        ,  1.        ,\n",
        "        1.        ,  1.        ,  1.        ,  1.        ,  1.        ]))\n",
        "('percentile_values', array([ 1.54551018,  1.54551018,  1.54551018]))\n"
       ]
      },
      {
       "metadata": {},
       "output_type": "pyout",
       "prompt_number": 18,
       "text": [
        "array([ 1.54551018,  1.54551018,  1.54551018])"
       ]
      }
     ],
     "prompt_number": 18
    },
    {
     "cell_type": "code",
     "collapsed": false,
     "input": [
      "estimator.estimate('mass')"
     ],
     "language": "python",
     "metadata": {},
     "outputs": [
      {
       "output_type": "stream",
       "stream": "stdout",
       "text": [
        "('model values', array([ 1.        ,  0.94721882,  0.97658127,  0.36218421,  0.88988584,\n",
        "        0.2712157 ,  0.19082158,  0.30294181,  0.21476787,  1.03573194]))\n",
        "('model_prob', array([  0.00000000e+000,   2.23607874e-311,   0.00000000e+000,\n",
        "         0.00000000e+000,   0.00000000e+000,   3.58460986e-002,\n",
        "         5.04390821e-035,   3.96508701e-067,   1.00000000e+000,\n",
        "         2.39556695e-014]))\n",
        "('p_norm', 1.0358460986370124)\n",
        "('cdf.shape', (10,))\n",
        "('cdf', array([  0.00000000e+000,   2.15869785e-311,   2.15869785e-311,\n",
        "         2.15869785e-311,   2.15869785e-311,   3.46056221e-002,\n",
        "         3.46056221e-002,   3.46056221e-002,   1.00000000e+000,\n",
        "         1.00000000e+000]))\n",
        "('percentile_values', array([ 1.03573194,  1.03573194,  1.03573194]))\n"
       ]
      },
      {
       "metadata": {},
       "output_type": "pyout",
       "prompt_number": 19,
       "text": [
        "array([ 1.03573194,  1.03573194,  1.03573194])"
       ]
      }
     ],
     "prompt_number": 19
    },
    {
     "cell_type": "code",
     "collapsed": false,
     "input": [],
     "language": "python",
     "metadata": {},
     "outputs": [],
     "prompt_number": 19
    }
   ],
   "metadata": {}
  }
 ]
}