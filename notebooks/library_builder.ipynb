{
 "metadata": {
  "name": "",
  "signature": "sha256:e909ef130e0d09a7077e15cab2455e739807595a92ba8de55391fc91574ac229"
 },
 "nbformat": 3,
 "nbformat_minor": 0,
 "worksheets": [
  {
   "cells": [
    {
     "cell_type": "code",
     "collapsed": false,
     "input": [
      "import numpy as np\n",
      "import h5py\n",
      "from sedbot.library.builder import LibraryBuilder\n",
      "from sedbot.library.builder import UniformParamGenerator\n",
      "from sedbot.library.builder import TauUniformGammaGenerator"
     ],
     "language": "python",
     "metadata": {},
     "outputs": [],
     "prompt_number": 1
    },
    {
     "cell_type": "code",
     "collapsed": false,
     "input": [
      "h5_file = h5py.File('in_memory.hdf5', driver='core', backing_store=False)"
     ],
     "language": "python",
     "metadata": {},
     "outputs": [],
     "prompt_number": 2
    },
    {
     "cell_type": "code",
     "collapsed": false,
     "input": [
      "sf_start_gen = UniformParamGenerator('sf_start', low_limit=0.5, high_limit=13.8 - 1.5)\n",
      "tburst_gen = UniformParamGenerator('tburst', low_limit=13.8 - 4., high_limit=13.8)\n",
      "fburst_gen = UniformParamGenerator('fburst', low_limit=0., high_limit=0.7)\n",
      "tau_gen = TauUniformGammaGenerator('tau', low_limit=0.1, high_limit=100.)"
     ],
     "language": "python",
     "metadata": {},
     "outputs": [],
     "prompt_number": 3
    },
    {
     "cell_type": "code",
     "collapsed": false,
     "input": [
      "builder = LibraryBuilder(h5_file, group='test_library')\n",
      "builder.add_parameter(sf_start_gen)\n",
      "builder.add_parameter(tau_gen)\n",
      "builder.add_parameter(fburst_gen)\n",
      "builder.add_parameter(tburst_gen)"
     ],
     "language": "python",
     "metadata": {},
     "outputs": [],
     "prompt_number": 4
    },
    {
     "cell_type": "code",
     "collapsed": false,
     "input": [
      "builder.generators"
     ],
     "language": "python",
     "metadata": {},
     "outputs": [
      {
       "metadata": {},
       "output_type": "pyout",
       "prompt_number": 5,
       "text": [
        "OrderedDict([('sf_start', <sedbot.library.builder.UniformParamGenerator object at 0x107b9f410>), ('tau', <sedbot.library.builder.TauUniformGammaGenerator object at 0x107b9f490>), ('fburst', <sedbot.library.builder.UniformParamGenerator object at 0x107b9f450>), ('tburst', <sedbot.library.builder.UniformParamGenerator object at 0x107b9f3d0>)])"
       ]
      }
     ],
     "prompt_number": 5
    },
    {
     "cell_type": "code",
     "collapsed": false,
     "input": [
      "builder.define_library(10)"
     ],
     "language": "python",
     "metadata": {},
     "outputs": [],
     "prompt_number": 6
    },
    {
     "cell_type": "code",
     "collapsed": false,
     "input": [
      "builder.group['params']['sf_start']"
     ],
     "language": "python",
     "metadata": {},
     "outputs": [
      {
       "metadata": {},
       "output_type": "pyout",
       "prompt_number": 7,
       "text": [
        "array([ 7.20166921,  5.47761672,  2.27384614,  3.6863814 ,  3.18645395,\n",
        "        8.50433904,  2.18179512,  4.13560204,  5.15411512,  8.3479877 ])"
       ]
      }
     ],
     "prompt_number": 7
    },
    {
     "cell_type": "code",
     "collapsed": false,
     "input": [
      "builder.group['params']['tau']"
     ],
     "language": "python",
     "metadata": {},
     "outputs": [
      {
       "metadata": {},
       "output_type": "pyout",
       "prompt_number": 8,
       "text": [
        "array([ 0.10674014,  0.11228616,  0.11334023,  0.20082327,  0.19953023,\n",
        "        0.10995814,  0.10308381,  0.25852504,  1.75518882,  0.82743934])"
       ]
      }
     ],
     "prompt_number": 8
    },
    {
     "cell_type": "code",
     "collapsed": false,
     "input": [
      "builder.group['params']['fburst']"
     ],
     "language": "python",
     "metadata": {},
     "outputs": [
      {
       "metadata": {},
       "output_type": "pyout",
       "prompt_number": 9,
       "text": [
        "array([ 0.46783105,  0.31849419,  0.68732564,  0.68799658,  0.1763067 ,\n",
        "        0.59387179,  0.22692572,  0.11992877,  0.5610023 ,  0.53291405])"
       ]
      }
     ],
     "prompt_number": 9
    },
    {
     "cell_type": "code",
     "collapsed": false,
     "input": [
      "print(builder.group['params'].dtype.names)\n",
      "for row in builder.group['params']:\n",
      "    print(row)"
     ],
     "language": "python",
     "metadata": {},
     "outputs": [
      {
       "output_type": "stream",
       "stream": "stdout",
       "text": [
        "('sf_start', 'tau', 'fburst', 'tburst')\n",
        "(7.201669211677689, 0.10674013770133288, 0.46783104677893605, 13.171466264360701)\n",
        "(5.477616717524698, 0.11228615595190507, 0.31849418744066127, 13.131878710789785)\n",
        "(2.2738461445201494, 0.11334023470801846, 0.6873256370043748, 9.905251168796442)\n",
        "(3.686381403195806, 0.20082327485025572, 0.6879965825711181, 11.931077403921755)\n",
        "(3.186453950922926, 0.19953023117381724, 0.17630669504207713, 12.519211768049818)\n",
        "(8.50433903673204, 0.10995814143629129, 0.5938717852787015, 11.486828056123908)\n",
        "(2.1817951167110587, 0.10308380778808784, 0.2269257151244556, 11.535225412774974)\n",
        "(4.135602041352584, 0.2585250386245185, 0.11992876789562272, 12.605020674895638)\n",
        "(5.154115120444846, 1.7551888165123726, 0.561002301355867, 11.58033853474561)\n",
        "(8.347987695867538, 0.8274393378307063, 0.5329140465711315, 13.551796392666834)\n"
       ]
      }
     ],
     "prompt_number": 10
    },
    {
     "cell_type": "code",
     "collapsed": false,
     "input": [
      "bands = ('sdss_u', 'sdss_g', 'sdss_r', 'sdss_i')\n",
      "pset = {\"compute_vega_mags\": False,\n",
      "        \"zmet\": 20,\n",
      "        'sfh': 1}\n",
      "builder.compute_library_seds(bands, age=13.7, default_pset=pset)"
     ],
     "language": "python",
     "metadata": {},
     "outputs": [
      {
       "output_type": "stream",
       "stream": "stderr",
       "text": [
        "/Users/jsick/code/_andromass/sedbot/sedbot/library/builder.py:165: RuntimeWarning: divide by zero encountered in log10\n",
        "  meta_table['logSFR', i] = np.log10(sp.sfr)\n",
        "/Users/jsick/code/_andromass/sedbot/sedbot/library/builder.py:164: RuntimeWarning: invalid value encountered in log10\n",
        "  meta_table['logLbol', i] = np.log10(sp.log_lbol)\n"
       ]
      }
     ],
     "prompt_number": 11
    },
    {
     "cell_type": "code",
     "collapsed": false,
     "input": [
      "print(builder.group['seds'].dtype)"
     ],
     "language": "python",
     "metadata": {},
     "outputs": [
      {
       "output_type": "stream",
       "stream": "stdout",
       "text": [
        "[('sdss_u', '<f8'), ('sdss_g', '<f8'), ('sdss_r', '<f8'), ('sdss_i', '<f8')]\n"
       ]
      }
     ],
     "prompt_number": 12
    },
    {
     "cell_type": "code",
     "collapsed": false,
     "input": [
      "builder.group['seds']['sdss_u']"
     ],
     "language": "python",
     "metadata": {},
     "outputs": [
      {
       "metadata": {},
       "output_type": "pyout",
       "prompt_number": 13,
       "text": [
        "array([ 26864069.98867838,  15051564.97026493,   1774957.82939543,\n",
        "         4807462.53460827,   2603940.09644911,   3412925.55014757,\n",
        "         1613279.29406252,   2273681.02190479,   3528050.75170728,\n",
        "         6642832.22585557])"
       ]
      }
     ],
     "prompt_number": 13
    },
    {
     "cell_type": "code",
     "collapsed": false,
     "input": [
      "builder.group['mass_light']['sdss_i']"
     ],
     "language": "python",
     "metadata": {},
     "outputs": [
      {
       "metadata": {},
       "output_type": "pyout",
       "prompt_number": 14,
       "text": [
        "array([-0.2979788 , -0.13678764,  0.20411139, -0.10461032,  0.18668321,\n",
        "        0.03071242,  0.26681353,  0.21973142,  0.03907729, -0.13268557])"
       ]
      }
     ],
     "prompt_number": 14
    },
    {
     "cell_type": "markdown",
     "metadata": {},
     "source": [
      "# Fitting a Stellar Populatation\n",
      "\n",
      "We'll use one of models as our observed SED, with 1% uncertainties."
     ]
    },
    {
     "cell_type": "code",
     "collapsed": false,
     "input": [
      "x = builder.group['seds'][bands]\n",
      "obs_sed = x.view(np.float64).reshape(x.shape + (-1,))[0, :].flatten()\n",
      "obs_err = obs_sed / 100."
     ],
     "language": "python",
     "metadata": {},
     "outputs": [],
     "prompt_number": 15
    },
    {
     "cell_type": "code",
     "collapsed": false,
     "input": [
      "from sedbot.library.marginalizer import LibraryEstimator"
     ],
     "language": "python",
     "metadata": {},
     "outputs": [],
     "prompt_number": 16
    },
    {
     "cell_type": "code",
     "collapsed": false,
     "input": [
      "estimator = LibraryEstimator(obs_sed, obs_err, bands, 10, h5_file, library_group='test_library', ncpu=1)\n",
      "print(estimator.chisq_data)"
     ],
     "language": "python",
     "metadata": {},
     "outputs": [
      {
       "output_type": "stream",
       "stream": "stdout",
       "text": [
        "[(-0.0, 1.0) (-163.54673856389434, 1.598148375861376)\n",
        " (-7755.749447247788, 4.520538882256917)\n",
        " (-6122.377234938782, 2.124161123725878)\n",
        " (-5219.924118178627, 4.30769525265468)\n",
        " (-6290.530756805554, 2.931654710428427)\n",
        " (-7338.886524045479, 5.311328563869631)\n",
        " (-5609.542987414975, 4.6744545667749025)\n",
        " (-5933.923870704378, 3.0061998131518504)\n",
        " (-2039.95794834874, 2.487303130089351)]\n"
       ]
      }
     ],
     "prompt_number": 17
    },
    {
     "cell_type": "code",
     "collapsed": false,
     "input": [
      "estimator.estimate('tau')"
     ],
     "language": "python",
     "metadata": {},
     "outputs": [
      {
       "output_type": "stream",
       "stream": "stdout",
       "text": [
        "('model values', array([ 0.10674014,  0.11228616,  0.11334023,  0.20082327,  0.19953023,\n",
        "        0.10995814,  0.10308381,  0.25852504,  1.75518882,  0.82743934]))\n",
        "('cdf.shape', (10,))\n",
        "('cdf', array([ 0.,  1.,  1.,  1.,  1.,  1.,  1.,  1.,  1.,  1.]))\n",
        "('percentile_values', array([ 1.75518882,  1.75518882,  1.75518882]))\n"
       ]
      },
      {
       "metadata": {},
       "output_type": "pyout",
       "prompt_number": 18,
       "text": [
        "array([ 1.75518882,  1.75518882,  1.75518882])"
       ]
      }
     ],
     "prompt_number": 18
    },
    {
     "cell_type": "code",
     "collapsed": false,
     "input": [
      "estimator.estimate('mass')"
     ],
     "language": "python",
     "metadata": {},
     "outputs": [
      {
       "output_type": "stream",
       "stream": "stdout",
       "text": [
        "('model values', array([ 1.        ,  1.59814838,  4.52053888,  2.12416112,  4.30769525,\n",
        "        2.93165471,  5.31132856,  4.67445457,  3.00619981,  2.48730313]))\n",
        "('cdf.shape', (10,))\n",
        "('cdf', array([ 1.,  1.,  1.,  1.,  1.,  1.,  1.,  1.,  1.,  1.]))\n",
        "('percentile_values', array([ 5.31132856,  5.31132856,  5.31132856]))\n"
       ]
      },
      {
       "metadata": {},
       "output_type": "pyout",
       "prompt_number": 19,
       "text": [
        "array([ 5.31132856,  5.31132856,  5.31132856])"
       ]
      }
     ],
     "prompt_number": 19
    },
    {
     "cell_type": "code",
     "collapsed": false,
     "input": [],
     "language": "python",
     "metadata": {},
     "outputs": [],
     "prompt_number": 19
    }
   ],
   "metadata": {}
  }
 ]
}