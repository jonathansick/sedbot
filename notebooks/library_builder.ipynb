{
 "metadata": {
  "name": "",
  "signature": "sha256:efd7f1d1cfa4d59bd298b6c7874720b45337921809c8e19bb0313f5716562e15"
 },
 "nbformat": 3,
 "nbformat_minor": 0,
 "worksheets": [
  {
   "cells": [
    {
     "cell_type": "code",
     "collapsed": false,
     "input": [
      "import numpy as np\n",
      "import h5py\n",
      "from sedbot.library.builder import LibraryBuilder\n",
      "from sedbot.library.builder import UniformParamGenerator\n",
      "from sedbot.library.builder import TauUniformGammaGenerator"
     ],
     "language": "python",
     "metadata": {},
     "outputs": [],
     "prompt_number": 1
    },
    {
     "cell_type": "code",
     "collapsed": false,
     "input": [
      "h5_file = h5py.File('in_memory.hdf5', driver='core', backing_store=False)"
     ],
     "language": "python",
     "metadata": {},
     "outputs": [],
     "prompt_number": 2
    },
    {
     "cell_type": "code",
     "collapsed": false,
     "input": [
      "sf_start_gen = UniformParamGenerator('sf_start', low_limit=0.5, high_limit=13.8 - 1.5)\n",
      "tburst_gen = UniformParamGenerator('tburst', low_limit=13.8 - 4., high_limit=13.8)\n",
      "fburst_gen = UniformParamGenerator('fburst', low_limit=0., high_limit=0.7)\n",
      "tau_gen = TauUniformGammaGenerator('tau', low_limit=0.1, high_limit=100.)"
     ],
     "language": "python",
     "metadata": {},
     "outputs": [],
     "prompt_number": 3
    },
    {
     "cell_type": "code",
     "collapsed": false,
     "input": [
      "builder = LibraryBuilder(h5_file, group='test_library')\n",
      "builder.add_parameter(sf_start_gen)\n",
      "builder.add_parameter(tau_gen)\n",
      "builder.add_parameter(fburst_gen)\n",
      "builder.add_parameter(tburst_gen)"
     ],
     "language": "python",
     "metadata": {},
     "outputs": [],
     "prompt_number": 4
    },
    {
     "cell_type": "code",
     "collapsed": false,
     "input": [
      "builder.generators"
     ],
     "language": "python",
     "metadata": {},
     "outputs": [
      {
       "metadata": {},
       "output_type": "pyout",
       "prompt_number": 5,
       "text": [
        "OrderedDict([('sf_start', <sedbot.library.builder.UniformParamGenerator object at 0x104f9a3d0>), ('tau', <sedbot.library.builder.TauUniformGammaGenerator object at 0x104f9a450>), ('fburst', <sedbot.library.builder.UniformParamGenerator object at 0x104f9a410>), ('tburst', <sedbot.library.builder.UniformParamGenerator object at 0x104f9a390>)])"
       ]
      }
     ],
     "prompt_number": 5
    },
    {
     "cell_type": "code",
     "collapsed": false,
     "input": [
      "builder.define_library(10)"
     ],
     "language": "python",
     "metadata": {},
     "outputs": [],
     "prompt_number": 6
    },
    {
     "cell_type": "code",
     "collapsed": false,
     "input": [
      "builder.group['params']['sf_start']"
     ],
     "language": "python",
     "metadata": {},
     "outputs": [
      {
       "metadata": {},
       "output_type": "pyout",
       "prompt_number": 7,
       "text": [
        "array([ 2.64529526,  8.98690116,  3.50700034,  0.57442623,  2.84503361,\n",
        "        7.58545692,  8.53502598,  4.86826001,  7.34775185,  1.17187263])"
       ]
      }
     ],
     "prompt_number": 7
    },
    {
     "cell_type": "code",
     "collapsed": false,
     "input": [
      "builder.group['params']['tau']"
     ],
     "language": "python",
     "metadata": {},
     "outputs": [
      {
       "metadata": {},
       "output_type": "pyout",
       "prompt_number": 8,
       "text": [
        "array([  0.12889358,   0.23941118,  39.7340261 ,   0.10812334,\n",
        "         0.46481284,   0.14904915,   0.4464152 ,   0.13785837,\n",
        "         0.21324173,   0.11348058])"
       ]
      }
     ],
     "prompt_number": 8
    },
    {
     "cell_type": "code",
     "collapsed": false,
     "input": [
      "builder.group['params']['fburst']"
     ],
     "language": "python",
     "metadata": {},
     "outputs": [
      {
       "metadata": {},
       "output_type": "pyout",
       "prompt_number": 9,
       "text": [
        "array([ 0.34143166,  0.16248588,  0.11256123,  0.64725005,  0.08281177,\n",
        "        0.22211086,  0.56999569,  0.00938773,  0.29163062,  0.2051502 ])"
       ]
      }
     ],
     "prompt_number": 9
    },
    {
     "cell_type": "code",
     "collapsed": false,
     "input": [
      "print(builder.group['params'].dtype.names)\n",
      "for row in builder.group['params']:\n",
      "    print(row)"
     ],
     "language": "python",
     "metadata": {},
     "outputs": [
      {
       "output_type": "stream",
       "stream": "stdout",
       "text": [
        "('sf_start', 'tau', 'fburst', 'tburst')\n",
        "(2.645295256414384, 0.12889358361898806, 0.3414316584264645, 11.476997371802055)\n",
        "(8.986901157749777, 0.23941118096732172, 0.1624858818188133, 12.672705068692109)\n",
        "(3.5070003407944714, 39.73402610256537, 0.11256122691171588, 12.288168999705219)\n",
        "(0.5744262328833963, 0.10812333502009147, 0.6472500490304004, 10.855165118937359)\n",
        "(2.845033610015373, 0.46481283655036165, 0.08281176881102284, 10.458963833805296)\n",
        "(7.585456915937783, 0.14904914642079717, 0.2221108607138658, 10.289593783625985)\n",
        "(8.535025977469253, 0.44641519880822006, 0.5699956935095145, 10.759120940920972)\n",
        "(4.86826001102017, 0.13785836838152807, 0.009387725812032621, 13.385359861552447)\n",
        "(7.347751847011179, 0.21324173190734932, 0.29163062269285733, 11.033905420366068)\n",
        "(1.1718726325447468, 0.11348057611885747, 0.20515019743024349, 11.711584705406395)\n"
       ]
      }
     ],
     "prompt_number": 10
    },
    {
     "cell_type": "code",
     "collapsed": false,
     "input": [
      "bands = ('sdss_u', 'sdss_g', 'sdss_r', 'sdss_i')\n",
      "pset = {\"compute_vega_mags\": False,\n",
      "        \"zmet\": 20,\n",
      "        'sfh': 1}\n",
      "builder.compute_library_seds(bands, age=13.7, default_pset=pset)"
     ],
     "language": "python",
     "metadata": {},
     "outputs": [
      {
       "output_type": "stream",
       "stream": "stderr",
       "text": [
        "/Users/jsick/code/_andromass/sedbot/sedbot/library/builder.py:164: RuntimeWarning: invalid value encountered in log10\n",
        "  meta_table['logLbol', i] = np.log10(sp.log_lbol)\n",
        "/Users/jsick/code/_andromass/sedbot/sedbot/library/builder.py:165: RuntimeWarning: divide by zero encountered in log10\n",
        "  meta_table['logSFR', i] = np.log10(sp.sfr)\n"
       ]
      }
     ],
     "prompt_number": 11
    },
    {
     "cell_type": "code",
     "collapsed": false,
     "input": [
      "print(builder.group['seds'].dtype)"
     ],
     "language": "python",
     "metadata": {},
     "outputs": [
      {
       "output_type": "stream",
       "stream": "stdout",
       "text": [
        "[('sdss_u', '<f8'), ('sdss_g', '<f8'), ('sdss_r', '<f8'), ('sdss_i', '<f8')]\n"
       ]
      }
     ],
     "prompt_number": 12
    },
    {
     "cell_type": "code",
     "collapsed": false,
     "input": [
      "builder.group['seds']['sdss_u']"
     ],
     "language": "python",
     "metadata": {},
     "outputs": [
      {
       "metadata": {},
       "output_type": "pyout",
       "prompt_number": 13,
       "text": [
        "array([  2027879.95773779,   3860969.32429696,  10291652.69347225,\n",
        "         2305352.21444268,    930067.70677773,   1668991.33112771,\n",
        "         2563275.05319274,   1006118.3808638 ,   1994949.85983114,\n",
        "         1598074.71301262])"
       ]
      }
     ],
     "prompt_number": 13
    },
    {
     "cell_type": "code",
     "collapsed": false,
     "input": [
      "builder.group['mass_light']['sdss_i']"
     ],
     "language": "python",
     "metadata": {},
     "outputs": [
      {
       "metadata": {},
       "output_type": "pyout",
       "prompt_number": 14,
       "text": [
        "array([ 0.20100091,  0.03280239, -0.04595082,  0.14640344,  0.39710257,\n",
        "        0.22249119,  0.10184778,  0.38511181,  0.18413377,  0.26454871])"
       ]
      }
     ],
     "prompt_number": 14
    },
    {
     "cell_type": "markdown",
     "metadata": {},
     "source": [
      "# Fitting a Stellar Populatation\n",
      "\n",
      "We'll use one of models as our observed SED, with 1% uncertainties."
     ]
    },
    {
     "cell_type": "code",
     "collapsed": false,
     "input": [
      "x = builder.group['seds'][bands]\n",
      "obs_sed = x.view(np.float64).reshape(x.shape + (-1,))[0, :].flatten()\n",
      "obs_err = obs_sed / 100."
     ],
     "language": "python",
     "metadata": {},
     "outputs": [],
     "prompt_number": 15
    },
    {
     "cell_type": "code",
     "collapsed": false,
     "input": [
      "from sedbot.library.marginalizer import LibraryMarginalizer"
     ],
     "language": "python",
     "metadata": {},
     "outputs": [],
     "prompt_number": 16
    },
    {
     "cell_type": "code",
     "collapsed": false,
     "input": [
      "marginalizer = LibraryMarginalizer(h5_file, group='test_library')\n",
      "marginalizer.model_likelihoods(obs_sed, obs_err, bands, 10, ncpu=1)"
     ],
     "language": "python",
     "metadata": {},
     "outputs": [
      {
       "output_type": "stream",
       "stream": "stdout",
       "text": [
        "[ 1.  1.  1.  1.]\n",
        "[ 1.90394373  1.7778346   1.58017731  1.51907635]\n",
        "[ 5.07507984  2.79720877  2.03065749  1.82526591]\n",
        "[ 1.13682874  1.14485108  1.15469144  1.14837816]\n",
        "[ 0.45864042  0.54792356  0.60504858  0.62268396]\n",
        "[ 0.82302275  0.89384046  0.943595    0.95657586]\n",
        "[ 1.26401715  1.2778223   1.29337142  1.28915509]\n",
        "[ 0.49614297  0.57719377  0.62524408  0.63937663]\n",
        "[ 0.98376132  1.01948552  1.04736569  1.05035721]\n",
        "[ 0.78805193  0.81757601  0.83523151  0.85183507]\n"
       ]
      }
     ],
     "prompt_number": 17
    },
    {
     "cell_type": "code",
     "collapsed": false,
     "input": [],
     "language": "python",
     "metadata": {},
     "outputs": [],
     "prompt_number": 17
    }
   ],
   "metadata": {}
  }
 ]
}