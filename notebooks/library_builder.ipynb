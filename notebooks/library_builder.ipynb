{
 "metadata": {
  "name": "",
  "signature": "sha256:0f414a39d9d5d650b880914f812763f68ae49cabb2c1771621705bc21ff3e71b"
 },
 "nbformat": 3,
 "nbformat_minor": 0,
 "worksheets": [
  {
   "cells": [
    {
     "cell_type": "code",
     "collapsed": false,
     "input": [
      "%pylab inline\n",
      "import numpy as np\n",
      "import h5py\n",
      "from sedbot.library.builder import LibraryBuilder\n",
      "from sedbot.library.builder import UniformParamGenerator\n",
      "from sedbot.library.builder import TauUniformGammaGenerator"
     ],
     "language": "python",
     "metadata": {},
     "outputs": [
      {
       "output_type": "stream",
       "stream": "stdout",
       "text": [
        "Populating the interactive namespace from numpy and matplotlib\n"
       ]
      }
     ],
     "prompt_number": 23
    },
    {
     "cell_type": "code",
     "collapsed": false,
     "input": [
      "h5_file = h5py.File('in_memory.hdf5', driver='core', backing_store=False)"
     ],
     "language": "python",
     "metadata": {},
     "outputs": [],
     "prompt_number": 2
    },
    {
     "cell_type": "markdown",
     "metadata": {},
     "source": [
      "We define library parameter distributions with parameter generators:"
     ]
    },
    {
     "cell_type": "code",
     "collapsed": false,
     "input": [
      "sf_start_gen = UniformParamGenerator('sf_start', low_limit=0.5, high_limit=13.8 - 1.5)\n",
      "tburst_gen = UniformParamGenerator('tburst', low_limit=13.8 - 4., high_limit=13.8)\n",
      "fburst_gen = UniformParamGenerator('fburst', low_limit=0., high_limit=0.7)\n",
      "tau_gen = TauUniformGammaGenerator('tau', low_limit=0.1, high_limit=100.)"
     ],
     "language": "python",
     "metadata": {},
     "outputs": [],
     "prompt_number": 3
    },
    {
     "cell_type": "markdown",
     "metadata": {},
     "source": [
      "These parameter generators are used to build a `LibraryBuilder`:"
     ]
    },
    {
     "cell_type": "code",
     "collapsed": false,
     "input": [
      "builder = LibraryBuilder(h5_file, group='test_library')\n",
      "builder.add_parameter(sf_start_gen)\n",
      "builder.add_parameter(tau_gen)\n",
      "builder.add_parameter(fburst_gen)\n",
      "builder.add_parameter(tburst_gen)"
     ],
     "language": "python",
     "metadata": {},
     "outputs": [],
     "prompt_number": 4
    },
    {
     "cell_type": "markdown",
     "metadata": {},
     "source": [
      "We can access a `OrderedDict` of these generators:"
     ]
    },
    {
     "cell_type": "code",
     "collapsed": false,
     "input": [
      "builder.generators"
     ],
     "language": "python",
     "metadata": {},
     "outputs": [
      {
       "metadata": {},
       "output_type": "pyout",
       "prompt_number": 5,
       "text": [
        "OrderedDict([('sf_start', <sedbot.library.builder.UniformParamGenerator object at 0x1116bb410>), ('tau', <sedbot.library.builder.TauUniformGammaGenerator object at 0x1116bb490>), ('fburst', <sedbot.library.builder.UniformParamGenerator object at 0x1116bb450>), ('tburst', <sedbot.library.builder.UniformParamGenerator object at 0x1116bb3d0>)])"
       ]
      }
     ],
     "prompt_number": 5
    },
    {
     "cell_type": "markdown",
     "metadata": {},
     "source": [
      "Next we build the library of parameters (this does not yet calculate SEDs):"
     ]
    },
    {
     "cell_type": "code",
     "collapsed": false,
     "input": [
      "builder.define_library(10000)"
     ],
     "language": "python",
     "metadata": {},
     "outputs": [],
     "prompt_number": 6
    },
    {
     "cell_type": "code",
     "collapsed": false,
     "input": [
      "print(builder.group['params'].dtype.names)"
     ],
     "language": "python",
     "metadata": {},
     "outputs": [
      {
       "output_type": "stream",
       "stream": "stdout",
       "text": [
        "('sf_start', 'tau', 'fburst', 'tburst')\n"
       ]
      }
     ],
     "prompt_number": 51
    },
    {
     "cell_type": "code",
     "collapsed": false,
     "input": [
      "builder.group['params']['sf_start']"
     ],
     "language": "python",
     "metadata": {},
     "outputs": [
      {
       "metadata": {},
       "output_type": "pyout",
       "prompt_number": 7,
       "text": [
        "array([ 11.29406402,   9.13593374,   6.68930135, ...,   7.54837041,\n",
        "         6.83582105,   3.78589979])"
       ]
      }
     ],
     "prompt_number": 7
    },
    {
     "cell_type": "markdown",
     "metadata": {},
     "source": [
      "And finally we calculate the SEDs of each model realization:"
     ]
    },
    {
     "cell_type": "code",
     "collapsed": false,
     "input": [
      "bands = ('sdss_u', 'sdss_g', 'sdss_r', 'sdss_i')\n",
      "pset = {\"compute_vega_mags\": False,\n",
      "        \"zmet\": 20,\n",
      "        'sfh': 1}\n",
      "builder.compute_library_seds(bands, age=13.7, default_pset=pset)"
     ],
     "language": "python",
     "metadata": {},
     "outputs": [
      {
       "output_type": "stream",
       "stream": "stderr",
       "text": [
        "/Users/jsick/code/_andromass/sedbot/sedbot/library/builder.py:164: RuntimeWarning: invalid value encountered in log10\n",
        "  meta_table['logLbol', i] = np.log10(sp.log_lbol)\n",
        "/Users/jsick/code/_andromass/sedbot/sedbot/library/builder.py:165: RuntimeWarning: divide by zero encountered in log10\n",
        "  meta_table['logSFR', i] = np.log10(sp.sfr)\n"
       ]
      }
     ],
     "prompt_number": 11
    },
    {
     "cell_type": "code",
     "collapsed": false,
     "input": [
      "print(builder.group['seds'].dtype)"
     ],
     "language": "python",
     "metadata": {},
     "outputs": [
      {
       "output_type": "stream",
       "stream": "stdout",
       "text": [
        "[('sdss_u', '<f8'), ('sdss_g', '<f8'), ('sdss_r', '<f8'), ('sdss_i', '<f8')]\n"
       ]
      }
     ],
     "prompt_number": 12
    },
    {
     "cell_type": "code",
     "collapsed": false,
     "input": [
      "builder.group['seds']['sdss_u']"
     ],
     "language": "python",
     "metadata": {},
     "outputs": [
      {
       "metadata": {},
       "output_type": "pyout",
       "prompt_number": 13,
       "text": [
        "array([ 4576467.84682299,  7148476.64819764,  1412625.31534712, ...,\n",
        "        5077055.80569375,  1301062.91330589,  1037524.08956945])"
       ]
      }
     ],
     "prompt_number": 13
    },
    {
     "cell_type": "code",
     "collapsed": false,
     "input": [
      "builder.group['mass_light']['sdss_i']"
     ],
     "language": "python",
     "metadata": {},
     "outputs": [
      {
       "metadata": {},
       "output_type": "pyout",
       "prompt_number": 14,
       "text": [
        "array([-0.05361208, -0.06558915,  0.28298749, ..., -0.02803286,\n",
        "        0.30410947,  0.37827938])"
       ]
      }
     ],
     "prompt_number": 14
    },
    {
     "cell_type": "code",
     "collapsed": false,
     "input": [
      "from astroML.stats import binned_statistic_2d\n",
      "import matplotlib as mpl\n",
      "from matplotlib.gridspec import GridSpec\n",
      "\n",
      "color = lambda c1, c2: 2.5 * np.log10(c1 / c2)\n",
      "sdss_u = builder.group['seds']['sdss_u']\n",
      "sdss_g = builder.group['seds']['sdss_g']\n",
      "sdss_r = builder.group['seds']['sdss_r']\n",
      "sdss_i = builder.group['seds']['sdss_i']\n",
      "ml_i = builder.group['mass_light']['sdss_i']\n",
      "mean_ml, xedges, yedges = binned_statistic_2d(color(sdss_u, sdss_g),\n",
      "                                              color(sdss_r, sdss_i),\n",
      "                                              ml_i,\n",
      "                                              'median',\n",
      "                                              bins=100)\n",
      "                                              # range=[[-1, 1], [-20, 0.5]])\n",
      "fig = mpl.pyplot.figure(figsize=(3.5, 3.5), frameon=False, dpi=300)\n",
      "gs = GridSpec(1, 1,\n",
      "              left=0.15, right=0.95, bottom=0.15, top=0.95,\n",
      "              wspace=None, hspace=None,\n",
      "              width_ratios=None, height_ratios=None)\n",
      "cmap = mpl.cm.jet\n",
      "ax = fig.add_subplot(gs[0])\n",
      "ax.imshow(mean_ml, origin='lower',\n",
      "          extent=[xedges[0], xedges[-1], yedges[0], yedges[-1]],\n",
      "          aspect='auto', interpolation='nearest', cmap=cmap)\n",
      "ax.set_xlim(xedges[0], xedges[-1])\n",
      "ax.set_ylim(yedges[0], yedges[-1])\n",
      "ax.set_xlabel(r'')\n",
      "gs.tight_layout(fig, pad=1.08, h_pad=None, w_pad=None, rect=None)\n",
      "fig.show()"
     ],
     "language": "python",
     "metadata": {},
     "outputs": [
      {
       "metadata": {},
       "output_type": "display_data",
       "png": "[encoded data removed]",
       "text": [
        "<matplotlib.figure.Figure at 0x134edf090>"
       ]
      }
     ],
     "prompt_number": 47
    },
    {
     "cell_type": "markdown",
     "metadata": {},
     "source": [
      "# Fitting a Stellar Populatation\n",
      "\n",
      "We'll use one of models as our observed SED, with 1% uncertainties."
     ]
    },
    {
     "cell_type": "code",
     "collapsed": false,
     "input": [
      "x = builder.group['seds'][bands]\n",
      "obs_sed = x.view(np.float64).reshape(x.shape + (-1,))[0, :].flatten()\n",
      "obs_err = obs_sed / 100."
     ],
     "language": "python",
     "metadata": {},
     "outputs": [],
     "prompt_number": 15
    },
    {
     "cell_type": "code",
     "collapsed": false,
     "input": [
      "from sedbot.library.marginalizer import LibraryEstimator"
     ],
     "language": "python",
     "metadata": {},
     "outputs": [],
     "prompt_number": 16
    },
    {
     "cell_type": "code",
     "collapsed": false,
     "input": [
      "estimator = LibraryEstimator(obs_sed, obs_err, bands, 10, h5_file, library_group='test_library', ncpu=1)\n",
      "print(estimator.chisq_data)"
     ],
     "language": "python",
     "metadata": {},
     "outputs": [
      {
       "output_type": "stream",
       "stream": "stdout",
       "text": [
        "[(-0.0, 1.0) (-1027.9082299742304, 0.8064845981501169)\n",
        " (-355.6833494254377, 2.538427074641518) ...,\n",
        " (-82.53317054317264, 0.9702388862483103)\n",
        " (-414.1542607663292, 2.691227810312552)\n",
        " (-498.0594018539216, 3.2620371440623916)]\n"
       ]
      }
     ],
     "prompt_number": 17
    },
    {
     "cell_type": "code",
     "collapsed": false,
     "input": [
      "estimator.estimate('tau')"
     ],
     "language": "python",
     "metadata": {},
     "outputs": [
      {
       "output_type": "stream",
       "stream": "stdout",
       "text": [
        "('grid_center', array([  0.13187439,   0.19558706,   0.25929972, ...,  95.44602137,\n",
        "        95.50973403,  95.5734467 ]))\n",
        "('cdf', array([ 0.46160975,  0.71121131,  0.8165678 , ...,  1.        ,\n",
        "        1.        ,  1.        ]))\n",
        "('cdf last bin == 1?', 1.0)\n",
        "('cdf.shape', (1499,))\n",
        "('grid.shape', (1500,))\n",
        "('percentile_values', array([ 0.13187439,  0.14167379,  0.2492806 ]))\n"
       ]
      },
      {
       "metadata": {},
       "output_type": "pyout",
       "prompt_number": 18,
       "text": [
        "array([ 0.13187439,  0.14167379,  0.2492806 ])"
       ]
      }
     ],
     "prompt_number": 18
    },
    {
     "cell_type": "code",
     "collapsed": false,
     "input": [
      "estimator.estimate('mass')"
     ],
     "language": "python",
     "metadata": {},
     "outputs": [
      {
       "output_type": "stream",
       "stream": "stdout",
       "text": [
        "('grid_center', array([ 0.00531876,  0.00838382,  0.01144887, ...,  4.59064239,\n",
        "        4.59370745,  4.5967725 ]))\n",
        "('cdf', array([ 0.,  0.,  0., ...,  1.,  1.,  1.]))\n",
        "('cdf last bin == 1?', 0.99999999999999989)\n",
        "('cdf.shape', (1499,))\n",
        "('grid.shape', (1500,))\n",
        "('percentile_values', array([ 0.8127009 ,  0.94145998,  1.07833183]))\n"
       ]
      },
      {
       "metadata": {},
       "output_type": "pyout",
       "prompt_number": 19,
       "text": [
        "array([ 0.8127009 ,  0.94145998,  1.07833183])"
       ]
      }
     ],
     "prompt_number": 19
    },
    {
     "cell_type": "code",
     "collapsed": false,
     "input": [],
     "language": "python",
     "metadata": {},
     "outputs": [],
     "prompt_number": 19
    }
   ],
   "metadata": {}
  }
 ]
}