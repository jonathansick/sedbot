{
 "metadata": {
  "name": "",
  "signature": "sha256:bfc7e0d5854334f05d917f6fb94e464451fa4a4286bfbd88540e58af5c53fe38"
 },
 "nbformat": 3,
 "nbformat_minor": 0,
 "worksheets": [
  {
   "cells": [
    {
     "cell_type": "code",
     "collapsed": false,
     "input": [
      "import h5py\n",
      "from sedbot.library.builder import LibraryBuilder\n",
      "from sedbot.library.builder import UniformParamGenerator\n",
      "from sedbot.library.builder import TauUniformGammaGenerator"
     ],
     "language": "python",
     "metadata": {},
     "outputs": [],
     "prompt_number": 1
    },
    {
     "cell_type": "code",
     "collapsed": false,
     "input": [
      "h5_file = h5py.File('in_memory.hdf5', driver='core', backing_store=False)"
     ],
     "language": "python",
     "metadata": {},
     "outputs": [],
     "prompt_number": 2
    },
    {
     "cell_type": "code",
     "collapsed": false,
     "input": [
      "sf_start_gen = UniformParamGenerator('sf_start', low_limit=0.5, high_limit=13.8 - 1.5)\n",
      "tburst_gen = UniformParamGenerator('tburst', low_limit=13.8 - 4., high_limit=13.8)\n",
      "fburst_gen = UniformParamGenerator('fburst', low_limit=0., high_limit=0.7)\n",
      "tau_gen = TauUniformGammaGenerator('tau', low_limit=0.1, high_limit=100.)"
     ],
     "language": "python",
     "metadata": {},
     "outputs": [],
     "prompt_number": 3
    },
    {
     "cell_type": "code",
     "collapsed": false,
     "input": [
      "builder = LibraryBuilder(h5_file)\n",
      "builder.add_parameter(sf_start_gen)\n",
      "builder.add_parameter(tau_gen)\n",
      "builder.add_parameter(fburst_gen)\n",
      "builder.add_parameter(tburst_gen)"
     ],
     "language": "python",
     "metadata": {},
     "outputs": [],
     "prompt_number": 4
    },
    {
     "cell_type": "code",
     "collapsed": false,
     "input": [
      "builder.generators"
     ],
     "language": "python",
     "metadata": {},
     "outputs": [
      {
       "metadata": {},
       "output_type": "pyout",
       "prompt_number": 5,
       "text": [
        "OrderedDict([('sf_start', <sedbot.library.builder.UniformParamGenerator object at 0x10d4b3350>), ('tau', <sedbot.library.builder.TauUniformGammaGenerator object at 0x10d4b33d0>), ('fburst', <sedbot.library.builder.UniformParamGenerator object at 0x10d4b3390>), ('tburst', <sedbot.library.builder.UniformParamGenerator object at 0x10d4b3310>)])"
       ]
      }
     ],
     "prompt_number": 5
    },
    {
     "cell_type": "code",
     "collapsed": false,
     "input": [
      "builder.define_library(10)"
     ],
     "language": "python",
     "metadata": {},
     "outputs": [],
     "prompt_number": 6
    },
    {
     "cell_type": "code",
     "collapsed": false,
     "input": [
      "builder.h5_file['params']['sf_start']"
     ],
     "language": "python",
     "metadata": {},
     "outputs": [
      {
       "metadata": {},
       "output_type": "pyout",
       "prompt_number": 7,
       "text": [
        "array([  8.20063964,   1.792677  ,   3.23969172,  11.03339057,\n",
        "         3.88507687,  10.01148542,   4.94575954,   5.24596237,\n",
        "         7.87673934,   1.02953887])"
       ]
      }
     ],
     "prompt_number": 7
    },
    {
     "cell_type": "code",
     "collapsed": false,
     "input": [
      "builder.h5_file['params']['tau']"
     ],
     "language": "python",
     "metadata": {},
     "outputs": [
      {
       "metadata": {},
       "output_type": "pyout",
       "prompt_number": 8,
       "text": [
        "array([ 0.12522331,  0.27340151,  0.56429665,  2.71482967,  0.12859674,\n",
        "        0.35228351,  0.78167524,  0.51087123,  0.14077962,  0.12522239])"
       ]
      }
     ],
     "prompt_number": 8
    },
    {
     "cell_type": "code",
     "collapsed": false,
     "input": [
      "builder.h5_file['params']['fburst']"
     ],
     "language": "python",
     "metadata": {},
     "outputs": [
      {
       "metadata": {},
       "output_type": "pyout",
       "prompt_number": 9,
       "text": [
        "array([ 0.3577283 ,  0.21258337,  0.03656186,  0.57849141,  0.21422398,\n",
        "        0.05983231,  0.6568685 ,  0.03352753,  0.02970739,  0.23311306])"
       ]
      }
     ],
     "prompt_number": 9
    },
    {
     "cell_type": "code",
     "collapsed": false,
     "input": [
      "print(builder.h5_file['params'].dtype.names)\n",
      "for row in builder.h5_file['params']:\n",
      "    print(row)"
     ],
     "language": "python",
     "metadata": {},
     "outputs": [
      {
       "output_type": "stream",
       "stream": "stdout",
       "text": [
        "('sf_start', 'tau', 'fburst', 'tburst')\n",
        "(8.200639644192712, 0.12522330741482224, 0.3577282999334432, 12.33202063786556)\n",
        "(1.792677001560039, 0.2734015115298119, 0.21258337396211577, 10.83550534717707)\n",
        "(3.2396917160362664, 0.5642966485651231, 0.036561859672740116, 12.648040604386003)\n",
        "(11.033390570163863, 2.7148296685679627, 0.5784914073381754, 11.290860824199267)\n",
        "(3.8850768686378876, 0.12859673867511492, 0.21422398494579728, 10.548483994898179)\n",
        "(10.011485421436655, 0.3522835120065332, 0.059832314523319906, 10.641588068870671)\n",
        "(4.945759539219883, 0.781675243016857, 0.6568685024576069, 12.572296702777553)\n",
        "(5.2459623653410175, 0.5108712267950748, 0.03352753031120604, 11.229015905811691)\n",
        "(7.8767393421851, 0.1407796168654944, 0.02970738944916926, 13.332057381989767)\n",
        "(1.029538866006039, 0.1252223929878631, 0.23311306010146388, 11.14118199424286)\n"
       ]
      }
     ],
     "prompt_number": 10
    },
    {
     "cell_type": "code",
     "collapsed": false,
     "input": [
      "bands = ['sdss_u', 'sdss_g', 'sdss_r', 'sdss_i']\n",
      "pset = {\"compute_vega_mags\": False,\n",
      "        \"zmet\": 20,\n",
      "        'sfh': 1}\n",
      "builder.compute_library_seds(bands, age=13.7, default_pset=pset)"
     ],
     "language": "python",
     "metadata": {},
     "outputs": []
    },
    {
     "cell_type": "code",
     "collapsed": false,
     "input": [
      "print(builder.h5_file['seds'].dtype)"
     ],
     "language": "python",
     "metadata": {},
     "outputs": [
      {
       "output_type": "stream",
       "stream": "stdout",
       "text": [
        "[('sdss_u', '<f8'), ('sdss_g', '<f8'), ('sdss_r', '<f8'), ('sdss_i', '<f8')]\n"
       ]
      }
     ],
     "prompt_number": 12
    },
    {
     "cell_type": "code",
     "collapsed": false,
     "input": [
      "builder.h5_file['seds']['sdss_u']"
     ],
     "language": "python",
     "metadata": {},
     "outputs": [
      {
       "metadata": {},
       "output_type": "pyout",
       "prompt_number": 13,
       "text": [
        "array([ 10030219.07485629,  28525929.91579762,   5647305.77549163,\n",
        "         4767931.56436934,   2149472.29183712,   1863068.53762126,\n",
        "         1587609.55645373,   4526526.19946794,   5837211.91574966,\n",
        "         7066566.89911371])"
       ]
      }
     ],
     "prompt_number": 13
    },
    {
     "cell_type": "code",
     "collapsed": false,
     "input": [
      "builder.h5_file['mass_light']['sdss_i']"
     ],
     "language": "python",
     "metadata": {},
     "outputs": [
      {
       "metadata": {},
       "output_type": "pyout",
       "prompt_number": 14,
       "text": [
        "array([-0.2705474 , -0.35624484,  0.00292613, -0.00504371,  0.14226893,\n",
        "        0.21020878,  0.26320503, -0.08501073, -0.12921216, -0.11795674])"
       ]
      }
     ],
     "prompt_number": 14
    },
    {
     "cell_type": "code",
     "collapsed": false,
     "input": [],
     "language": "python",
     "metadata": {},
     "outputs": [],
     "prompt_number": 14
    }
   ],
   "metadata": {}
  }
 ]
}