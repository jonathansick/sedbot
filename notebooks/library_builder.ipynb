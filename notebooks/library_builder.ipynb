{
 "metadata": {
  "name": "",
  "signature": "sha256:c898b8517ad171cff513c49051491e33e9c49b4b84d892d1a0ba6c0b93b939df"
 },
 "nbformat": 3,
 "nbformat_minor": 0,
 "worksheets": [
  {
   "cells": [
    {
     "cell_type": "code",
     "collapsed": false,
     "input": [
      "import numpy as np\n",
      "import h5py\n",
      "from sedbot.library.builder import LibraryBuilder\n",
      "from sedbot.library.builder import UniformParamGenerator\n",
      "from sedbot.library.builder import TauUniformGammaGenerator"
     ],
     "language": "python",
     "metadata": {},
     "outputs": [],
     "prompt_number": 1
    },
    {
     "cell_type": "code",
     "collapsed": false,
     "input": [
      "h5_file = h5py.File('in_memory.hdf5', driver='core', backing_store=False)"
     ],
     "language": "python",
     "metadata": {},
     "outputs": [],
     "prompt_number": 2
    },
    {
     "cell_type": "code",
     "collapsed": false,
     "input": [
      "sf_start_gen = UniformParamGenerator('sf_start', low_limit=0.5, high_limit=13.8 - 1.5)\n",
      "tburst_gen = UniformParamGenerator('tburst', low_limit=13.8 - 4., high_limit=13.8)\n",
      "fburst_gen = UniformParamGenerator('fburst', low_limit=0., high_limit=0.7)\n",
      "tau_gen = TauUniformGammaGenerator('tau', low_limit=0.1, high_limit=100.)"
     ],
     "language": "python",
     "metadata": {},
     "outputs": [],
     "prompt_number": 3
    },
    {
     "cell_type": "code",
     "collapsed": false,
     "input": [
      "builder = LibraryBuilder(h5_file, group='test_library')\n",
      "builder.add_parameter(sf_start_gen)\n",
      "builder.add_parameter(tau_gen)\n",
      "builder.add_parameter(fburst_gen)\n",
      "builder.add_parameter(tburst_gen)"
     ],
     "language": "python",
     "metadata": {},
     "outputs": [],
     "prompt_number": 4
    },
    {
     "cell_type": "code",
     "collapsed": false,
     "input": [
      "builder.generators"
     ],
     "language": "python",
     "metadata": {},
     "outputs": [
      {
       "metadata": {},
       "output_type": "pyout",
       "prompt_number": 5,
       "text": [
        "OrderedDict([('sf_start', <sedbot.library.builder.UniformParamGenerator object at 0x1119ea410>), ('tau', <sedbot.library.builder.TauUniformGammaGenerator object at 0x1119ea490>), ('fburst', <sedbot.library.builder.UniformParamGenerator object at 0x1119ea450>), ('tburst', <sedbot.library.builder.UniformParamGenerator object at 0x1119ea3d0>)])"
       ]
      }
     ],
     "prompt_number": 5
    },
    {
     "cell_type": "code",
     "collapsed": false,
     "input": [
      "builder.define_library(10)"
     ],
     "language": "python",
     "metadata": {},
     "outputs": [],
     "prompt_number": 6
    },
    {
     "cell_type": "code",
     "collapsed": false,
     "input": [
      "builder.group['params']['sf_start']"
     ],
     "language": "python",
     "metadata": {},
     "outputs": [
      {
       "metadata": {},
       "output_type": "pyout",
       "prompt_number": 7,
       "text": [
        "array([ 3.66010603,  3.92287938,  1.11222044,  8.36156096,  6.34990431,\n",
        "        9.39322014,  9.77163262,  4.03473548,  5.88927434,  4.41827187])"
       ]
      }
     ],
     "prompt_number": 7
    },
    {
     "cell_type": "code",
     "collapsed": false,
     "input": [
      "builder.group['params']['tau']"
     ],
     "language": "python",
     "metadata": {},
     "outputs": [
      {
       "metadata": {},
       "output_type": "pyout",
       "prompt_number": 8,
       "text": [
        "array([ 0.10338644,  0.11243831,  0.22978796,  0.10042771,  0.17929479,\n",
        "        0.14805697,  0.23118806,  0.42296451,  0.44809708,  0.23358359])"
       ]
      }
     ],
     "prompt_number": 8
    },
    {
     "cell_type": "code",
     "collapsed": false,
     "input": [
      "builder.group['params']['fburst']"
     ],
     "language": "python",
     "metadata": {},
     "outputs": [
      {
       "metadata": {},
       "output_type": "pyout",
       "prompt_number": 9,
       "text": [
        "array([ 0.01771803,  0.28125799,  0.31727148,  0.39748643,  0.10218082,\n",
        "        0.34083449,  0.17274861,  0.59726354,  0.38959867,  0.10367891])"
       ]
      }
     ],
     "prompt_number": 9
    },
    {
     "cell_type": "code",
     "collapsed": false,
     "input": [
      "print(builder.group['params'].dtype.names)\n",
      "for row in builder.group['params']:\n",
      "    print(row)"
     ],
     "language": "python",
     "metadata": {},
     "outputs": [
      {
       "output_type": "stream",
       "stream": "stdout",
       "text": [
        "('sf_start', 'tau', 'fburst', 'tburst')\n",
        "(3.6601060330495514, 0.10338643534713504, 0.01771803062509406, 11.494143425453816)\n",
        "(3.9228793756655507, 0.11243831005951961, 0.2812579924002833, 10.98289582899153)\n",
        "(1.112220440514194, 0.22978795735700625, 0.3172714751514813, 10.46692864693735)\n",
        "(8.361560957901109, 0.1004277060851039, 0.397486425836896, 12.001248944490015)\n",
        "(6.34990431018327, 0.17929478854743847, 0.10218082439634729, 10.884977284272104)\n",
        "(9.393220139344908, 0.14805696534134866, 0.34083448598686106, 11.44063103006238)\n",
        "(9.771632624202685, 0.2311880646022816, 0.1727486135508211, 13.3598581173879)\n",
        "(4.03473548158092, 0.4229645100801975, 0.5972635375230638, 10.472172633505336)\n",
        "(5.889274339878398, 0.44809707919252706, 0.38959867194733033, 13.436443845401204)\n",
        "(4.4182718686216145, 0.23358358830859807, 0.10367891004926312, 11.738103695265359)\n"
       ]
      }
     ],
     "prompt_number": 10
    },
    {
     "cell_type": "code",
     "collapsed": false,
     "input": [
      "bands = ('sdss_u', 'sdss_g', 'sdss_r', 'sdss_i')\n",
      "pset = {\"compute_vega_mags\": False,\n",
      "        \"zmet\": 20,\n",
      "        'sfh': 1}\n",
      "builder.compute_library_seds(bands, age=13.7, default_pset=pset)"
     ],
     "language": "python",
     "metadata": {},
     "outputs": [
      {
       "output_type": "stream",
       "stream": "stderr",
       "text": [
        "/Users/jsick/code/_andromass/sedbot/sedbot/library/builder.py:164: RuntimeWarning: invalid value encountered in log10\n",
        "  meta_table['logLbol', i] = np.log10(sp.log_lbol)\n",
        "/Users/jsick/code/_andromass/sedbot/sedbot/library/builder.py:165: RuntimeWarning: divide by zero encountered in log10\n",
        "  meta_table['logSFR', i] = np.log10(sp.sfr)\n"
       ]
      }
     ],
     "prompt_number": 11
    },
    {
     "cell_type": "code",
     "collapsed": false,
     "input": [
      "print(builder.group['seds'].dtype)"
     ],
     "language": "python",
     "metadata": {},
     "outputs": [
      {
       "output_type": "stream",
       "stream": "stdout",
       "text": [
        "[('sdss_u', '<f8'), ('sdss_g', '<f8'), ('sdss_r', '<f8'), ('sdss_i', '<f8')]\n"
       ]
      }
     ],
     "prompt_number": 12
    },
    {
     "cell_type": "code",
     "collapsed": false,
     "input": [
      "builder.group['seds']['sdss_u']"
     ],
     "language": "python",
     "metadata": {},
     "outputs": [
      {
       "metadata": {},
       "output_type": "pyout",
       "prompt_number": 13,
       "text": [
        "array([  883009.05462611,  1575988.85074092,  1297767.67955451,\n",
        "        3769412.64085418,  1383134.47377509,  2887938.5863509 ,\n",
        "        3256067.51680046,  1987940.67599943,  4003172.1111275 ,\n",
        "        1368486.53186061])"
       ]
      }
     ],
     "prompt_number": 13
    },
    {
     "cell_type": "code",
     "collapsed": false,
     "input": [
      "builder.group['mass_light']['sdss_i']"
     ],
     "language": "python",
     "metadata": {},
     "outputs": [
      {
       "metadata": {},
       "output_type": "pyout",
       "prompt_number": 14,
       "text": [
        "array([ 0.41255182,  0.26134516,  0.30761296, -0.01883013,  0.29269638,\n",
        "        0.0720475 ,  0.04805615,  0.17986263,  0.04518153,  0.30155927])"
       ]
      }
     ],
     "prompt_number": 14
    },
    {
     "cell_type": "markdown",
     "metadata": {},
     "source": [
      "# Fitting a Stellar Populatation\n",
      "\n",
      "We'll use one of models as our observed SED, with 1% uncertainties."
     ]
    },
    {
     "cell_type": "code",
     "collapsed": false,
     "input": [
      "x = builder.group['seds'][bands]\n",
      "obs_sed = x.view(np.float64).reshape(x.shape + (-1,))[0, :].flatten()\n",
      "obs_err = obs_sed / 100."
     ],
     "language": "python",
     "metadata": {},
     "outputs": [],
     "prompt_number": 15
    },
    {
     "cell_type": "code",
     "collapsed": false,
     "input": [
      "from sedbot.library.marginalizer import LibraryEstimator"
     ],
     "language": "python",
     "metadata": {},
     "outputs": [],
     "prompt_number": 16
    },
    {
     "cell_type": "code",
     "collapsed": false,
     "input": [
      "estimator = LibraryEstimator(obs_sed, obs_err, bands, 10, h5_file, library_group='test_library', ncpu=1)\n",
      "print(estimator.chisq_data)"
     ],
     "language": "python",
     "metadata": {},
     "outputs": [
      {
       "output_type": "stream",
       "stream": "stdout",
       "text": [
        "[(-0.0, 1.0) (-285.8712060511055, 0.6325925064342688)\n",
        " (-111.96105427552942, 0.7366803204531495)\n",
        " (-1018.3692007559903, 0.2874868242199597)\n",
        " (-149.19576917769174, 0.6991068995933682)\n",
        " (-783.7338807004415, 0.3683623969819665)\n",
        " (-1598.6854954388614, 0.34331757856074485)\n",
        " (-374.75389642059264, 0.5093576167301355)\n",
        " (-4160.932528216797, 0.3001577406234776)\n",
        " (-195.03509345223515, 0.715389382095541)]\n"
       ]
      }
     ],
     "prompt_number": 17
    },
    {
     "cell_type": "code",
     "collapsed": false,
     "input": [],
     "language": "python",
     "metadata": {},
     "outputs": [],
     "prompt_number": 17
    }
   ],
   "metadata": {}
  }
 ]
}