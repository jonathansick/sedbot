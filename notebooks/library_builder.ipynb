{
 "metadata": {
  "name": "",
  "signature": "sha256:6d318a183ac0b0a3d0788feed0181fc540c97e8b5edfe27c8130fe2f75a08e03"
 },
 "nbformat": 3,
 "nbformat_minor": 0,
 "worksheets": [
  {
   "cells": [
    {
     "cell_type": "code",
     "collapsed": false,
     "input": [
      "import h5py\n",
      "from sedbot.library.builder import LibraryBuilder\n",
      "from sedbot.library.builder import UniformParamGenerator\n",
      "from sedbot.library.builder import TauUniformGammaGenerator"
     ],
     "language": "python",
     "metadata": {},
     "outputs": [],
     "prompt_number": 1
    },
    {
     "cell_type": "code",
     "collapsed": false,
     "input": [
      "h5_file = h5py.File('in_memory.hdf5', driver='core', backing_store=False)"
     ],
     "language": "python",
     "metadata": {},
     "outputs": [],
     "prompt_number": 2
    },
    {
     "cell_type": "code",
     "collapsed": false,
     "input": [
      "sf_start_gen = UniformParamGenerator('sf_start', low_limit=0.5, high_limit=13.8 - 1.5)\n",
      "tburst_gen = UniformParamGenerator('tburst', low_limit=13.8 - 4., high_limit=13.8)\n",
      "fburst_gen = UniformParamGenerator('fburst', low_limit=0., high_limit=0.7)\n",
      "tau_gen = TauUniformGammaGenerator('tau', low_limit=0.1, high_limit=100.)"
     ],
     "language": "python",
     "metadata": {},
     "outputs": [],
     "prompt_number": 3
    },
    {
     "cell_type": "code",
     "collapsed": false,
     "input": [
      "builder = LibraryBuilder(h5_file)\n",
      "builder.add_parameter(sf_start_gen)\n",
      "builder.add_parameter(tau_gen)\n",
      "builder.add_parameter(fburst_gen)\n",
      "builder.add_parameter(tburst_gen)"
     ],
     "language": "python",
     "metadata": {},
     "outputs": [],
     "prompt_number": 4
    },
    {
     "cell_type": "code",
     "collapsed": false,
     "input": [
      "builder.generators"
     ],
     "language": "python",
     "metadata": {},
     "outputs": [
      {
       "metadata": {},
       "output_type": "pyout",
       "prompt_number": 5,
       "text": [
        "OrderedDict([('sf_start', <sedbot.library.builder.UniformParamGenerator object at 0x10c98a350>), ('tau', <sedbot.library.builder.TauUniformGammaGenerator object at 0x10c98a3d0>), ('fburst', <sedbot.library.builder.UniformParamGenerator object at 0x10c98a390>), ('tburst', <sedbot.library.builder.UniformParamGenerator object at 0x10c98a310>)])"
       ]
      }
     ],
     "prompt_number": 5
    },
    {
     "cell_type": "code",
     "collapsed": false,
     "input": [
      "builder.define_library(10)"
     ],
     "language": "python",
     "metadata": {},
     "outputs": [],
     "prompt_number": 6
    },
    {
     "cell_type": "code",
     "collapsed": false,
     "input": [
      "builder.h5_file['params']['sf_start']"
     ],
     "language": "python",
     "metadata": {},
     "outputs": [
      {
       "metadata": {},
       "output_type": "pyout",
       "prompt_number": 7,
       "text": [
        "array([ 11.63837327,   8.84408114,   7.54224196,   9.56539397,\n",
        "         9.46796718,   1.38514257,   4.67352256,   4.61137229,\n",
        "        11.72712512,   7.71215516])"
       ]
      }
     ],
     "prompt_number": 7
    },
    {
     "cell_type": "code",
     "collapsed": false,
     "input": [
      "builder.h5_file['params']['tau']"
     ],
     "language": "python",
     "metadata": {},
     "outputs": [
      {
       "metadata": {},
       "output_type": "pyout",
       "prompt_number": 8,
       "text": [
        "array([ 0.19084455,  0.52944181,  1.17873376,  0.87447423,  0.10898565,\n",
        "        0.1909256 ,  0.33774661,  0.69721999,  0.24279745,  0.11229412])"
       ]
      }
     ],
     "prompt_number": 8
    },
    {
     "cell_type": "code",
     "collapsed": false,
     "input": [
      "builder.h5_file['params']['fburst']"
     ],
     "language": "python",
     "metadata": {},
     "outputs": [
      {
       "metadata": {},
       "output_type": "pyout",
       "prompt_number": 9,
       "text": [
        "array([ 0.45626218,  0.65992042,  0.22996272,  0.13301986,  0.17181979,\n",
        "        0.48422346,  0.22632067,  0.63412169,  0.30441409,  0.472083  ])"
       ]
      }
     ],
     "prompt_number": 9
    },
    {
     "cell_type": "code",
     "collapsed": false,
     "input": [
      "print(builder.h5_file['params'].dtype.names)\n",
      "for row in builder.h5_file['params']:\n",
      "    print(row)"
     ],
     "language": "python",
     "metadata": {},
     "outputs": [
      {
       "output_type": "stream",
       "stream": "stdout",
       "text": [
        "('sf_start', 'tau', 'fburst', 'tburst')\n",
        "(11.638373266225488, 0.19084455459703198, 0.4562621843402127, 13.692014913797948)\n",
        "(8.84408113936531, 0.5294418113067505, 0.6599204150865392, 13.118267442501478)\n",
        "(7.542241960105134, 1.1787337570427339, 0.22996272248122204, 13.737728909136749)\n",
        "(9.565393972245333, 0.8744742267773511, 0.1330198607994699, 12.280812048416566)\n",
        "(9.467967182111739, 0.10898565167013993, 0.1718197870841396, 10.044739806957821)\n",
        "(1.38514256903844, 0.19092560323369143, 0.48422346166206126, 10.804805594077418)\n",
        "(4.673522555694088, 0.33774661377764065, 0.22632067250328744, 11.183476061839578)\n",
        "(4.611372287976676, 0.6972199928155265, 0.6341216940807043, 11.92279435542975)\n",
        "(11.727125123721196, 0.24279744538332357, 0.304414087322694, 10.313487482921346)\n",
        "(7.712155159222866, 0.1122941172841688, 0.4720829962211835, 12.64833360716453)\n"
       ]
      }
     ],
     "prompt_number": 10
    },
    {
     "cell_type": "code",
     "collapsed": false,
     "input": [
      "bands = ['sdss_u', 'sdss_g', 'sdss_r', 'sdss_i']\n",
      "pset = {\"compute_vega_mags\": False,\n",
      "        \"zmet\": 20,\n",
      "        'sfh': 1}\n",
      "builder.compute_library_seds(bands, age=13.7, default_pset=pset)"
     ],
     "language": "python",
     "metadata": {},
     "outputs": [
      {
       "output_type": "stream",
       "stream": "stderr",
       "text": [
        "/Users/jsick/code/_andromass/sedbot/sedbot/library/builder.py:169: RuntimeWarning: divide by zero encountered in log10\n",
        "  meta_table['logSFR', i] = np.log10(sp.sfr)\n",
        "/Users/jsick/code/_andromass/sedbot/sedbot/library/builder.py:168: RuntimeWarning: invalid value encountered in log10\n",
        "  meta_table['logLbol', i] = np.log10(sp.log_lbol)\n"
       ]
      }
     ],
     "prompt_number": 11
    },
    {
     "cell_type": "code",
     "collapsed": false,
     "input": [
      "print(builder.h5_file['seds'].dtype)"
     ],
     "language": "python",
     "metadata": {},
     "outputs": [
      {
       "output_type": "stream",
       "stream": "stdout",
       "text": [
        "[('sdss_u', '<f8'), ('sdss_g', '<f8'), ('sdss_r', '<f8'), ('sdss_i', '<f8')]\n"
       ]
      }
     ],
     "prompt_number": 12
    },
    {
     "cell_type": "code",
     "collapsed": false,
     "input": [
      "builder.h5_file['seds']['sdss_u']"
     ],
     "language": "python",
     "metadata": {},
     "outputs": [
      {
       "metadata": {},
       "output_type": "pyout",
       "prompt_number": 13,
       "text": [
        "array([ 10030219.07485629,  28525929.91579762,   5647305.77549163,\n",
        "         4767931.56436934,   2149472.29183712,   1863068.53762126,\n",
        "         1587609.55645373,   4526526.19946794,   5837211.91574966,\n",
        "         7066566.89911371])"
       ]
      }
     ],
     "prompt_number": 13
    },
    {
     "cell_type": "code",
     "collapsed": false,
     "input": [
      "builder.h5_file['mass_light']['sdss_i']"
     ],
     "language": "python",
     "metadata": {},
     "outputs": [
      {
       "metadata": {},
       "output_type": "pyout",
       "prompt_number": 14,
       "text": [
        "array([-0.2705474 , -0.35624484,  0.00292613, -0.00504371,  0.14226893,\n",
        "        0.21020878,  0.26320503, -0.08501073, -0.12921216, -0.11795674])"
       ]
      }
     ],
     "prompt_number": 14
    },
    {
     "cell_type": "code",
     "collapsed": false,
     "input": [],
     "language": "python",
     "metadata": {},
     "outputs": [],
     "prompt_number": 14
    }
   ],
   "metadata": {}
  }
 ]
}