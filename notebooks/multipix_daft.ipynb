{
 "metadata": {
  "name": "",
  "signature": "sha256:58c80c48623f83761a282ddbdeb2863cbd712798caafb910d90c508756f231a7"
 },
 "nbformat": 3,
 "nbformat_minor": 0,
 "worksheets": [
  {
   "cells": [
    {
     "cell_type": "heading",
     "level": 1,
     "metadata": {},
     "source": [
      "Multi-Pixel SED Modelling with Hierarchical Gibbs Sampling"
     ]
    },
    {
     "cell_type": "markdown",
     "metadata": {},
     "source": [
      "By Sick, Hogg and #AstroHackWeek"
     ]
    },
    {
     "cell_type": "heading",
     "level": 2,
     "metadata": {},
     "source": [
      "Specification"
     ]
    },
    {
     "cell_type": "markdown",
     "metadata": {},
     "source": [
      "We observe a galaxy that covers $N$ pixels of our detector. Each pixel $n$ is a six-vector with $ugriJK_s$ flux measurements $F_n$ and uncertainty $\\sigma_n$. All pixels are subject to a systematic scalar background uncertainty $B$ (a six-vector).\n",
      "\n",
      "Our goal is to estimate the star formation history and stellar population in each pixel:\n",
      "\n",
      "\\begin{equation*}\n",
      "\\theta_n = \\{ \\log M/L_i, \\log \\tau, t_0, c_\\mathrm{SFR}, A_V, \\log Z/Z_\\odot \\}_n.\n",
      "\\end{equation*}"
     ]
    },
    {
     "cell_type": "heading",
     "level": 2,
     "metadata": {},
     "source": [
      "Probabilistic Graphical Model"
     ]
    },
    {
     "cell_type": "code",
     "collapsed": false,
     "input": [
      "%matplotlib inline\n",
      "import matplotlib as mpl\n",
      "mpl.rc('font', size=22)\n",
      "from daft import PGM, Node, Plate"
     ],
     "language": "python",
     "metadata": {},
     "outputs": [],
     "prompt_number": 1
    },
    {
     "cell_type": "code",
     "collapsed": false,
     "input": [
      "# Graphic design poser\n",
      "asphalt= \"#34495e\"\n",
      "pomengrante = \"#c0392b\"\n",
      "westera = \"#8e44ad\"\n",
      "belize = \"#2980b9\"\n",
      "midnight = \"#2c3e50\"\n",
      "model_style = {'ec': asphalt, 'lw': 3}\n",
      "sp_style = {'ec': belize, 'lw': 3}\n",
      "obs_style = {'ec': pomengrante, 'lw': 2}\n",
      "edge_style = {\"ec\": midnight, 'lw': 2, 'head_width': 0.3}\n",
      "plate_style = {'ec': midnight}"
     ],
     "language": "python",
     "metadata": {},
     "outputs": [],
     "prompt_number": 12
    },
    {
     "cell_type": "code",
     "collapsed": false,
     "input": [
      "pgm = PGM([4, 4], origin=[0, 0], observed_style='inner', grid_unit=4, node_unit=2.5)\n",
      "pgm.add_node(Node(\"theta\", r\"$\\theta_n$\", 3, 3, plot_params=model_style))\n",
      "pgm.add_node(Node(\"f\", r\"$f_n$\", 2, 3, plot_params=sp_style))\n",
      "pgm.add_node(Node(\"sigma\", r\"$\\sigma_n$\", 3, 2, observed=True, plot_params=obs_style))\n",
      "pgm.add_node(Node(\"F\", r\"$F_n$\", 2, 2, observed=True, plot_params=obs_style))\n",
      "pgm.add_node(Node(\"B\", r\"$B$\", 1, 2, plot_params=model_style))\n",
      "pgm.add_node(Node(\"phi\", r\"$\\phi$\", 1, 3, plot_params=model_style))\n",
      "pgm.add_plate(Plate((1.5, 1.5, 2, 2.3), label=r\"Pixel $n$\", label_offset=[15, 235], shift=0, rect_params=plate_style))\n",
      "pgm.add_edge(\"theta\", \"f\", plot_params=edge_style)\n",
      "pgm.add_edge(\"f\", \"F\", plot_params=edge_style)\n",
      "pgm.add_edge(\"sigma\", \"F\", plot_params=edge_style)\n",
      "pgm.add_edge(\"B\", \"F\", plot_params=edge_style)\n",
      "pgm.add_edge(\"phi\", \"f\", plot_params=edge_style)\n",
      "pgm.render()"
     ],
     "language": "python",
     "metadata": {},
     "outputs": [
      {
       "metadata": {},
       "output_type": "pyout",
       "prompt_number": 13,
       "text": [
        "<matplotlib.axes.Axes at 0x106e3ddd0>"
       ]
      },
      {
       "metadata": {},
       "output_type": "display_data",
       "png": "[encoded data removed]",
       "text": [
        "<matplotlib.figure.Figure at 0x106e46390>"
       ]
      }
     ],
     "prompt_number": 13
    },
    {
     "cell_type": "markdown",
     "metadata": {},
     "source": [
      "In this probabilitistic graphical model (PGM) the plate implies that each pixel is treated independently (which is probably wrong), and that our observed SED is generated via\n",
      "\n",
      "\\begin{equation*}\n",
      "F_n = f(\\theta_n, \\phi) + B + \\sigma_n.\n",
      "\\end{equation*}\n",
      "\n",
      "Here $f_n$ is a stellar population synthesis engine (such as [FSPS](http://people.ucsc.edu/~conroy/FSPS.html)). It takes parameters that change for each pixel, $\\theta_n$, as well as parameters $\\phi$ that operate globally yet we still want to marginalize over (such as distance, or a stellar population calibration parameter)."
     ]
    },
    {
     "cell_type": "markdown",
     "metadata": {},
     "source": [
      "## Gibbs Sampler\n",
      "\n",
      "This physical problem operates at two obvious levels of hierarchy where we sample over the $\\theta_n$ parameters of each pixel, and then the $B$ and $\\phi$ parameters that affect all pixels. Rather than sample over all parameters simultaneously, which is a $N \\times \\mathrm{ndim}(\\theta) + \\mathrm{ndim}(B) + \\mathrm{ndim}(\\phi)$ problem, we can alternatively sample parameters at each hierarchical level, while keeping other parmeters fixed.  Broadly, this is a Gibbs sampler. Besides restraining the parameter space of individual MCMCs, this scheme also has the advantage of letting us evaluate posterior samples for individual pixels in parallel.\n",
      "\n",
      "### Step 1. Pixel-level (parallel)\n",
      "\n",
      "In the first stage we construct an [emcee]() run for each pixel to generate posterior samples of $\\theta_n$, keeping values of $B$ and $\\phi$ fixed. These emcee chains can run for a short number of steps and no steps should be thrown at as 'burn-in' at this stage.\n",
      "\n",
      "### Step 2. Background\n",
      "\n",
      "Now we take the *last* ($i$th) value of each $\\theta_n$ chain. Observe that our observations are generated via a linear process with respect to the background so that we can estimate, from each pixel, the background:\n",
      "\n",
      "\\begin{equation*}\n",
      "\\langle B \\rangle_n = F_n - f(\\theta_{n, i}, \\phi_i)\n",
      "\\end{equation*}\n",
      "\n",
      "Given we are working with Gaussian uncertainties, these estimates of $\\langle B \\rangle$ themselves are sampled from a normal distribution:\n",
      "\n",
      "\\begin{equation*}\n",
      "N\\left(\\frac{\\sum_n \\frac{\\langle B \\rangle_n}{\\sigma_n^2}}{\\sum_n \\frac{1}{\\sigma_n^2}}, \\sum_n \\frac{1}{\\sigma_n^2}\\right)\n",
      "\\end{equation*}\n",
      "\n",
      "Hence generating the next sample of $B$ is simply drawing a sample from this normal distribution.\n",
      "\n",
      "In a sense, this could be treated as a *trivial Gaussian Process*.\n",
      "\n",
      "### Step 3. Other global parameters\n",
      "\n",
      "In the last stage we construct an MCMC to generate samples of $\\phi$, the global parameter space. Here the likelihood function will be over all pixels, and keep the latest values of $B$ and $\\theta_n$ fixed.\n",
      "\n",
      "### Iteration & Reduction\n",
      "\n",
      "This three stage Gibbs sampler is iterated a sufficient number of times to obtain convergence and a sufficient number of samples. Note that the Gibbs sampler keeps out-of-stage parameters fixed so that the final posterior chain will have repeating values of $B$ and $\\phi$ from stage 1, repeating $\\theta_n$ and $\\phi$ from stage 2, and repeating $\\theta$ and $B$ from stage 3.\n",
      "\n",
      "With the assembled chain we can also deal with issues of burn-in, namely throwing out the first half of posterior samples."
     ]
    },
    {
     "cell_type": "markdown",
     "metadata": {},
     "source": [
      "## Implementation Notes\n",
      "\n",
      "This Gibbs sampler is being implemented in the `multipix` subpackage of [sedbot](https://github.com/jonathansick/sedbot/tree/multi_pix) (currently being developed on the `multi_pix` branch).\n",
      "\n",
      "To enable efficient parallelization, we're using the `ipython.parallel` package's `map` function. The main advantage of `map` is that a compute server is instantiated only once on each compute node, unlike Python's built-in `multiprocessing` package that pickles both the function and it's arguments for each job. For us, this would be a fatal overhead since instantiating FSPS requires reading many model specta and isochrones.\n",
      "\n",
      "Briefly, using `ipython.parallel` follows this pattern:\n",
      "\n",
      "```\n",
      "from IPython.parallel import Client\n",
      "c = Client()\n",
      "dview = c[:]  # a DirectView object\n",
      "\n",
      "# push instance variables and functions from the client to each server's Python namespace\n",
      "dview.push({\"init_function\": init_function,\n",
      "            \"compute_function\": compute_function})\n",
      "            \n",
      "# Execute python statements on each server's to prepare the namespace\n",
      "dview.execute(\"from fsps import StellarPopulation\")\n",
      "dview.execute(\"init_function()\")\n",
      "\n",
      "# Construct a list of jobs (ie. list of args and map, as usual\n",
      "results = dview.map(compute_function, job_args)\n",
      "```\n",
      "\n",
      "A small example showing `ipython.parallel` to set up python-fsps computer servers is [here](https://github.com/yoachim/HackWeek2014/blob/master/demos/parallel_fsps.py)."
     ]
    },
    {
     "cell_type": "code",
     "collapsed": false,
     "input": [],
     "language": "python",
     "metadata": {},
     "outputs": []
    }
   ],
   "metadata": {}
  }
 ]
}